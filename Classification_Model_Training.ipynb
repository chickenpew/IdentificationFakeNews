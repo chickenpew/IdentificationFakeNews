{
  "nbformat": 4,
  "nbformat_minor": 5,
  "metadata": {
    "kernelspec": {
      "display_name": "Python 3 (ipykernel)",
      "language": "python",
      "name": "python3"
    },
    "language_info": {
      "codemirror_mode": {
        "name": "ipython",
        "version": 3
      },
      "file_extension": ".py",
      "mimetype": "text/x-python",
      "name": "python",
      "nbconvert_exporter": "python",
      "pygments_lexer": "ipython3",
      "version": "3.9.7"
    },
    "colab": {
      "name": "Classification Model Training.ipynb",
      "provenance": []
    }
  },
  "cells": [
    {
      "cell_type": "code",
      "metadata": {
        "id": "0bf7e45c-bca9-4e14-8fd5-a58c945b95f1"
      },
      "source": [
        "import pandas as pd\n",
        "import numpy as np\n",
        "import math "
      ],
      "id": "0bf7e45c-bca9-4e14-8fd5-a58c945b95f1",
      "execution_count": null,
      "outputs": []
    },
    {
      "cell_type": "code",
      "metadata": {
        "id": "83398830-6995-45de-998a-a0588881565d"
      },
      "source": [
        "col_names = ['id','title', 'without_stopwords','date','source', 'numPunct','numWords','isCap', 'label',]\n",
        "news = pd.read_csv('full-dataset.csv', header=None, names=col_names)"
      ],
      "id": "83398830-6995-45de-998a-a0588881565d",
      "execution_count": null,
      "outputs": []
    },
    {
      "cell_type": "code",
      "metadata": {
        "colab": {
          "base_uri": "https://localhost:8080/",
          "height": 302
        },
        "id": "ead908f5-f634-4aaf-a164-39db3866308c",
        "outputId": "3d9df5ca-a415-4290-a2ff-9769d573964e"
      },
      "source": [
        "news.head()"
      ],
      "id": "ead908f5-f634-4aaf-a164-39db3866308c",
      "execution_count": null,
      "outputs": [
        {
          "output_type": "execute_result",
          "data": {
            "text/html": [
              "\n",
              "  <div id=\"df-0fc81623-5524-4320-9f5d-cd0dfa323fb3\">\n",
              "    <div class=\"colab-df-container\">\n",
              "      <div>\n",
              "<style scoped>\n",
              "    .dataframe tbody tr th:only-of-type {\n",
              "        vertical-align: middle;\n",
              "    }\n",
              "\n",
              "    .dataframe tbody tr th {\n",
              "        vertical-align: top;\n",
              "    }\n",
              "\n",
              "    .dataframe thead th {\n",
              "        text-align: right;\n",
              "    }\n",
              "</style>\n",
              "<table border=\"1\" class=\"dataframe\">\n",
              "  <thead>\n",
              "    <tr style=\"text-align: right;\">\n",
              "      <th></th>\n",
              "      <th>id</th>\n",
              "      <th>title</th>\n",
              "      <th>without_stopwords</th>\n",
              "      <th>date</th>\n",
              "      <th>source</th>\n",
              "      <th>numPunct</th>\n",
              "      <th>numWords</th>\n",
              "      <th>isCap</th>\n",
              "      <th>label</th>\n",
              "    </tr>\n",
              "  </thead>\n",
              "  <tbody>\n",
              "    <tr>\n",
              "      <th>0</th>\n",
              "      <td>NaN</td>\n",
              "      <td>title</td>\n",
              "      <td>without_stopwords</td>\n",
              "      <td>date</td>\n",
              "      <td>source</td>\n",
              "      <td>numPunct</td>\n",
              "      <td>numWords</td>\n",
              "      <td>isCap</td>\n",
              "      <td>class</td>\n",
              "    </tr>\n",
              "    <tr>\n",
              "      <th>1</th>\n",
              "      <td>0.0</td>\n",
              "      <td>Proof The Mainstream Media Is Manipulating The...</td>\n",
              "      <td>proof mainstream media manipulating election t...</td>\n",
              "      <td>9/19/2016</td>\n",
              "      <td>Buzzfeed</td>\n",
              "      <td>0</td>\n",
              "      <td>9</td>\n",
              "      <td>True</td>\n",
              "      <td>Fake</td>\n",
              "    </tr>\n",
              "    <tr>\n",
              "      <th>2</th>\n",
              "      <td>1.0</td>\n",
              "      <td>Trump Latest Campaign Promise May Be His Most ...</td>\n",
              "      <td>trump latest campaign promise may horrible one...</td>\n",
              "      <td>9/19/2016</td>\n",
              "      <td>Buzzfeed</td>\n",
              "      <td>0</td>\n",
              "      <td>8</td>\n",
              "      <td>True</td>\n",
              "      <td>Fake</td>\n",
              "    </tr>\n",
              "    <tr>\n",
              "      <th>3</th>\n",
              "      <td>2.0</td>\n",
              "      <td>Obama Pushes One World Government</td>\n",
              "      <td>obama pushes one world government</td>\n",
              "      <td>9/20/2016</td>\n",
              "      <td>Buzzfeed</td>\n",
              "      <td>0</td>\n",
              "      <td>5</td>\n",
              "      <td>True</td>\n",
              "      <td>Fake</td>\n",
              "    </tr>\n",
              "    <tr>\n",
              "      <th>4</th>\n",
              "      <td>3.0</td>\n",
              "      <td>WHOA! NEW DISTURBING VIDEO Shows HILLARY'S Cam...</td>\n",
              "      <td>whoa! new disturbing video shows hillary's cam...</td>\n",
              "      <td>9/19/2016</td>\n",
              "      <td>Buzzfeed</td>\n",
              "      <td>4</td>\n",
              "      <td>14</td>\n",
              "      <td>False</td>\n",
              "      <td>Fake</td>\n",
              "    </tr>\n",
              "  </tbody>\n",
              "</table>\n",
              "</div>\n",
              "      <button class=\"colab-df-convert\" onclick=\"convertToInteractive('df-0fc81623-5524-4320-9f5d-cd0dfa323fb3')\"\n",
              "              title=\"Convert this dataframe to an interactive table.\"\n",
              "              style=\"display:none;\">\n",
              "        \n",
              "  <svg xmlns=\"http://www.w3.org/2000/svg\" height=\"24px\"viewBox=\"0 0 24 24\"\n",
              "       width=\"24px\">\n",
              "    <path d=\"M0 0h24v24H0V0z\" fill=\"none\"/>\n",
              "    <path d=\"M18.56 5.44l.94 2.06.94-2.06 2.06-.94-2.06-.94-.94-2.06-.94 2.06-2.06.94zm-11 1L8.5 8.5l.94-2.06 2.06-.94-2.06-.94L8.5 2.5l-.94 2.06-2.06.94zm10 10l.94 2.06.94-2.06 2.06-.94-2.06-.94-.94-2.06-.94 2.06-2.06.94z\"/><path d=\"M17.41 7.96l-1.37-1.37c-.4-.4-.92-.59-1.43-.59-.52 0-1.04.2-1.43.59L10.3 9.45l-7.72 7.72c-.78.78-.78 2.05 0 2.83L4 21.41c.39.39.9.59 1.41.59.51 0 1.02-.2 1.41-.59l7.78-7.78 2.81-2.81c.8-.78.8-2.07 0-2.86zM5.41 20L4 18.59l7.72-7.72 1.47 1.35L5.41 20z\"/>\n",
              "  </svg>\n",
              "      </button>\n",
              "      \n",
              "  <style>\n",
              "    .colab-df-container {\n",
              "      display:flex;\n",
              "      flex-wrap:wrap;\n",
              "      gap: 12px;\n",
              "    }\n",
              "\n",
              "    .colab-df-convert {\n",
              "      background-color: #E8F0FE;\n",
              "      border: none;\n",
              "      border-radius: 50%;\n",
              "      cursor: pointer;\n",
              "      display: none;\n",
              "      fill: #1967D2;\n",
              "      height: 32px;\n",
              "      padding: 0 0 0 0;\n",
              "      width: 32px;\n",
              "    }\n",
              "\n",
              "    .colab-df-convert:hover {\n",
              "      background-color: #E2EBFA;\n",
              "      box-shadow: 0px 1px 2px rgba(60, 64, 67, 0.3), 0px 1px 3px 1px rgba(60, 64, 67, 0.15);\n",
              "      fill: #174EA6;\n",
              "    }\n",
              "\n",
              "    [theme=dark] .colab-df-convert {\n",
              "      background-color: #3B4455;\n",
              "      fill: #D2E3FC;\n",
              "    }\n",
              "\n",
              "    [theme=dark] .colab-df-convert:hover {\n",
              "      background-color: #434B5C;\n",
              "      box-shadow: 0px 1px 3px 1px rgba(0, 0, 0, 0.15);\n",
              "      filter: drop-shadow(0px 1px 2px rgba(0, 0, 0, 0.3));\n",
              "      fill: #FFFFFF;\n",
              "    }\n",
              "  </style>\n",
              "\n",
              "      <script>\n",
              "        const buttonEl =\n",
              "          document.querySelector('#df-0fc81623-5524-4320-9f5d-cd0dfa323fb3 button.colab-df-convert');\n",
              "        buttonEl.style.display =\n",
              "          google.colab.kernel.accessAllowed ? 'block' : 'none';\n",
              "\n",
              "        async function convertToInteractive(key) {\n",
              "          const element = document.querySelector('#df-0fc81623-5524-4320-9f5d-cd0dfa323fb3');\n",
              "          const dataTable =\n",
              "            await google.colab.kernel.invokeFunction('convertToInteractive',\n",
              "                                                     [key], {});\n",
              "          if (!dataTable) return;\n",
              "\n",
              "          const docLinkHtml = 'Like what you see? Visit the ' +\n",
              "            '<a target=\"_blank\" href=https://colab.research.google.com/notebooks/data_table.ipynb>data table notebook</a>'\n",
              "            + ' to learn more about interactive tables.';\n",
              "          element.innerHTML = '';\n",
              "          dataTable['output_type'] = 'display_data';\n",
              "          await google.colab.output.renderOutput(dataTable, element);\n",
              "          const docLink = document.createElement('div');\n",
              "          docLink.innerHTML = docLinkHtml;\n",
              "          element.appendChild(docLink);\n",
              "        }\n",
              "      </script>\n",
              "    </div>\n",
              "  </div>\n",
              "  "
            ],
            "text/plain": [
              "    id                                              title  ...  isCap  label\n",
              "0  NaN                                              title  ...  isCap  class\n",
              "1  0.0  Proof The Mainstream Media Is Manipulating The...  ...   True   Fake\n",
              "2  1.0  Trump Latest Campaign Promise May Be His Most ...  ...   True   Fake\n",
              "3  2.0                  Obama Pushes One World Government  ...   True   Fake\n",
              "4  3.0  WHOA! NEW DISTURBING VIDEO Shows HILLARY'S Cam...  ...  False   Fake\n",
              "\n",
              "[5 rows x 9 columns]"
            ]
          },
          "metadata": {},
          "execution_count": 10
        }
      ]
    },
    {
      "cell_type": "code",
      "source": [
        "# news.drop('id', axis=1, inplace=True)"
      ],
      "metadata": {
        "id": "Iqi54Uy7RHCW"
      },
      "id": "Iqi54Uy7RHCW",
      "execution_count": null,
      "outputs": []
    },
    {
      "cell_type": "code",
      "metadata": {
        "id": "d189ff9a-054e-4676-b2e9-b1a1b980f04a",
        "colab": {
          "base_uri": "https://localhost:8080/",
          "height": 302
        },
        "outputId": "e2b1786c-613b-4a67-8eed-6bacba34aae0"
      },
      "source": [
        "# news = news.drop(['id'],axis=1)\n",
        "news = news.dropna()\n",
        "news.head()"
      ],
      "id": "d189ff9a-054e-4676-b2e9-b1a1b980f04a",
      "execution_count": null,
      "outputs": [
        {
          "output_type": "execute_result",
          "data": {
            "text/html": [
              "\n",
              "  <div id=\"df-636168b9-3f49-4428-a32f-0b71cc0d8802\">\n",
              "    <div class=\"colab-df-container\">\n",
              "      <div>\n",
              "<style scoped>\n",
              "    .dataframe tbody tr th:only-of-type {\n",
              "        vertical-align: middle;\n",
              "    }\n",
              "\n",
              "    .dataframe tbody tr th {\n",
              "        vertical-align: top;\n",
              "    }\n",
              "\n",
              "    .dataframe thead th {\n",
              "        text-align: right;\n",
              "    }\n",
              "</style>\n",
              "<table border=\"1\" class=\"dataframe\">\n",
              "  <thead>\n",
              "    <tr style=\"text-align: right;\">\n",
              "      <th></th>\n",
              "      <th>id</th>\n",
              "      <th>title</th>\n",
              "      <th>without_stopwords</th>\n",
              "      <th>date</th>\n",
              "      <th>source</th>\n",
              "      <th>numPunct</th>\n",
              "      <th>numWords</th>\n",
              "      <th>isCap</th>\n",
              "      <th>label</th>\n",
              "    </tr>\n",
              "  </thead>\n",
              "  <tbody>\n",
              "    <tr>\n",
              "      <th>1</th>\n",
              "      <td>0.0</td>\n",
              "      <td>Proof The Mainstream Media Is Manipulating The...</td>\n",
              "      <td>proof mainstream media manipulating election t...</td>\n",
              "      <td>9/19/2016</td>\n",
              "      <td>Buzzfeed</td>\n",
              "      <td>0</td>\n",
              "      <td>9</td>\n",
              "      <td>True</td>\n",
              "      <td>Fake</td>\n",
              "    </tr>\n",
              "    <tr>\n",
              "      <th>2</th>\n",
              "      <td>1.0</td>\n",
              "      <td>Trump Latest Campaign Promise May Be His Most ...</td>\n",
              "      <td>trump latest campaign promise may horrible one...</td>\n",
              "      <td>9/19/2016</td>\n",
              "      <td>Buzzfeed</td>\n",
              "      <td>0</td>\n",
              "      <td>8</td>\n",
              "      <td>True</td>\n",
              "      <td>Fake</td>\n",
              "    </tr>\n",
              "    <tr>\n",
              "      <th>3</th>\n",
              "      <td>2.0</td>\n",
              "      <td>Obama Pushes One World Government</td>\n",
              "      <td>obama pushes one world government</td>\n",
              "      <td>9/20/2016</td>\n",
              "      <td>Buzzfeed</td>\n",
              "      <td>0</td>\n",
              "      <td>5</td>\n",
              "      <td>True</td>\n",
              "      <td>Fake</td>\n",
              "    </tr>\n",
              "    <tr>\n",
              "      <th>4</th>\n",
              "      <td>3.0</td>\n",
              "      <td>WHOA! NEW DISTURBING VIDEO Shows HILLARY'S Cam...</td>\n",
              "      <td>whoa! new disturbing video shows hillary's cam...</td>\n",
              "      <td>9/19/2016</td>\n",
              "      <td>Buzzfeed</td>\n",
              "      <td>4</td>\n",
              "      <td>14</td>\n",
              "      <td>False</td>\n",
              "      <td>Fake</td>\n",
              "    </tr>\n",
              "    <tr>\n",
              "      <th>5</th>\n",
              "      <td>4.0</td>\n",
              "      <td>Is it the Beginning of the End for Hillary Cli...</td>\n",
              "      <td>beginning end hillary clinton? ‚eagle rising</td>\n",
              "      <td>9/21/2016</td>\n",
              "      <td>Buzzfeed</td>\n",
              "      <td>1</td>\n",
              "      <td>6</td>\n",
              "      <td>False</td>\n",
              "      <td>Fake</td>\n",
              "    </tr>\n",
              "  </tbody>\n",
              "</table>\n",
              "</div>\n",
              "      <button class=\"colab-df-convert\" onclick=\"convertToInteractive('df-636168b9-3f49-4428-a32f-0b71cc0d8802')\"\n",
              "              title=\"Convert this dataframe to an interactive table.\"\n",
              "              style=\"display:none;\">\n",
              "        \n",
              "  <svg xmlns=\"http://www.w3.org/2000/svg\" height=\"24px\"viewBox=\"0 0 24 24\"\n",
              "       width=\"24px\">\n",
              "    <path d=\"M0 0h24v24H0V0z\" fill=\"none\"/>\n",
              "    <path d=\"M18.56 5.44l.94 2.06.94-2.06 2.06-.94-2.06-.94-.94-2.06-.94 2.06-2.06.94zm-11 1L8.5 8.5l.94-2.06 2.06-.94-2.06-.94L8.5 2.5l-.94 2.06-2.06.94zm10 10l.94 2.06.94-2.06 2.06-.94-2.06-.94-.94-2.06-.94 2.06-2.06.94z\"/><path d=\"M17.41 7.96l-1.37-1.37c-.4-.4-.92-.59-1.43-.59-.52 0-1.04.2-1.43.59L10.3 9.45l-7.72 7.72c-.78.78-.78 2.05 0 2.83L4 21.41c.39.39.9.59 1.41.59.51 0 1.02-.2 1.41-.59l7.78-7.78 2.81-2.81c.8-.78.8-2.07 0-2.86zM5.41 20L4 18.59l7.72-7.72 1.47 1.35L5.41 20z\"/>\n",
              "  </svg>\n",
              "      </button>\n",
              "      \n",
              "  <style>\n",
              "    .colab-df-container {\n",
              "      display:flex;\n",
              "      flex-wrap:wrap;\n",
              "      gap: 12px;\n",
              "    }\n",
              "\n",
              "    .colab-df-convert {\n",
              "      background-color: #E8F0FE;\n",
              "      border: none;\n",
              "      border-radius: 50%;\n",
              "      cursor: pointer;\n",
              "      display: none;\n",
              "      fill: #1967D2;\n",
              "      height: 32px;\n",
              "      padding: 0 0 0 0;\n",
              "      width: 32px;\n",
              "    }\n",
              "\n",
              "    .colab-df-convert:hover {\n",
              "      background-color: #E2EBFA;\n",
              "      box-shadow: 0px 1px 2px rgba(60, 64, 67, 0.3), 0px 1px 3px 1px rgba(60, 64, 67, 0.15);\n",
              "      fill: #174EA6;\n",
              "    }\n",
              "\n",
              "    [theme=dark] .colab-df-convert {\n",
              "      background-color: #3B4455;\n",
              "      fill: #D2E3FC;\n",
              "    }\n",
              "\n",
              "    [theme=dark] .colab-df-convert:hover {\n",
              "      background-color: #434B5C;\n",
              "      box-shadow: 0px 1px 3px 1px rgba(0, 0, 0, 0.15);\n",
              "      filter: drop-shadow(0px 1px 2px rgba(0, 0, 0, 0.3));\n",
              "      fill: #FFFFFF;\n",
              "    }\n",
              "  </style>\n",
              "\n",
              "      <script>\n",
              "        const buttonEl =\n",
              "          document.querySelector('#df-636168b9-3f49-4428-a32f-0b71cc0d8802 button.colab-df-convert');\n",
              "        buttonEl.style.display =\n",
              "          google.colab.kernel.accessAllowed ? 'block' : 'none';\n",
              "\n",
              "        async function convertToInteractive(key) {\n",
              "          const element = document.querySelector('#df-636168b9-3f49-4428-a32f-0b71cc0d8802');\n",
              "          const dataTable =\n",
              "            await google.colab.kernel.invokeFunction('convertToInteractive',\n",
              "                                                     [key], {});\n",
              "          if (!dataTable) return;\n",
              "\n",
              "          const docLinkHtml = 'Like what you see? Visit the ' +\n",
              "            '<a target=\"_blank\" href=https://colab.research.google.com/notebooks/data_table.ipynb>data table notebook</a>'\n",
              "            + ' to learn more about interactive tables.';\n",
              "          element.innerHTML = '';\n",
              "          dataTable['output_type'] = 'display_data';\n",
              "          await google.colab.output.renderOutput(dataTable, element);\n",
              "          const docLink = document.createElement('div');\n",
              "          docLink.innerHTML = docLinkHtml;\n",
              "          element.appendChild(docLink);\n",
              "        }\n",
              "      </script>\n",
              "    </div>\n",
              "  </div>\n",
              "  "
            ],
            "text/plain": [
              "    id                                              title  ...  isCap label\n",
              "1  0.0  Proof The Mainstream Media Is Manipulating The...  ...   True  Fake\n",
              "2  1.0  Trump Latest Campaign Promise May Be His Most ...  ...   True  Fake\n",
              "3  2.0                  Obama Pushes One World Government  ...   True  Fake\n",
              "4  3.0  WHOA! NEW DISTURBING VIDEO Shows HILLARY'S Cam...  ...  False  Fake\n",
              "5  4.0  Is it the Beginning of the End for Hillary Cli...  ...  False  Fake\n",
              "\n",
              "[5 rows x 9 columns]"
            ]
          },
          "metadata": {},
          "execution_count": 11
        }
      ]
    },
    {
      "cell_type": "code",
      "source": [
        "news = news.drop(['id'],axis=1)\n",
        "news.head()"
      ],
      "metadata": {
        "colab": {
          "base_uri": "https://localhost:8080/",
          "height": 302
        },
        "id": "KPFYcFpzXWF2",
        "outputId": "fe4cbf79-1b00-43a0-af7d-3928a607abe1"
      },
      "id": "KPFYcFpzXWF2",
      "execution_count": null,
      "outputs": [
        {
          "output_type": "execute_result",
          "data": {
            "text/html": [
              "\n",
              "  <div id=\"df-a71e8b74-73c6-42b0-8128-f39c54b841c8\">\n",
              "    <div class=\"colab-df-container\">\n",
              "      <div>\n",
              "<style scoped>\n",
              "    .dataframe tbody tr th:only-of-type {\n",
              "        vertical-align: middle;\n",
              "    }\n",
              "\n",
              "    .dataframe tbody tr th {\n",
              "        vertical-align: top;\n",
              "    }\n",
              "\n",
              "    .dataframe thead th {\n",
              "        text-align: right;\n",
              "    }\n",
              "</style>\n",
              "<table border=\"1\" class=\"dataframe\">\n",
              "  <thead>\n",
              "    <tr style=\"text-align: right;\">\n",
              "      <th></th>\n",
              "      <th>title</th>\n",
              "      <th>without_stopwords</th>\n",
              "      <th>date</th>\n",
              "      <th>source</th>\n",
              "      <th>numPunct</th>\n",
              "      <th>numWords</th>\n",
              "      <th>isCap</th>\n",
              "      <th>label</th>\n",
              "    </tr>\n",
              "  </thead>\n",
              "  <tbody>\n",
              "    <tr>\n",
              "      <th>1</th>\n",
              "      <td>Proof The Mainstream Media Is Manipulating The...</td>\n",
              "      <td>proof mainstream media manipulating election t...</td>\n",
              "      <td>9/19/2016</td>\n",
              "      <td>Buzzfeed</td>\n",
              "      <td>0</td>\n",
              "      <td>9</td>\n",
              "      <td>True</td>\n",
              "      <td>Fake</td>\n",
              "    </tr>\n",
              "    <tr>\n",
              "      <th>2</th>\n",
              "      <td>Trump Latest Campaign Promise May Be His Most ...</td>\n",
              "      <td>trump latest campaign promise may horrible one...</td>\n",
              "      <td>9/19/2016</td>\n",
              "      <td>Buzzfeed</td>\n",
              "      <td>0</td>\n",
              "      <td>8</td>\n",
              "      <td>True</td>\n",
              "      <td>Fake</td>\n",
              "    </tr>\n",
              "    <tr>\n",
              "      <th>3</th>\n",
              "      <td>Obama Pushes One World Government</td>\n",
              "      <td>obama pushes one world government</td>\n",
              "      <td>9/20/2016</td>\n",
              "      <td>Buzzfeed</td>\n",
              "      <td>0</td>\n",
              "      <td>5</td>\n",
              "      <td>True</td>\n",
              "      <td>Fake</td>\n",
              "    </tr>\n",
              "    <tr>\n",
              "      <th>4</th>\n",
              "      <td>WHOA! NEW DISTURBING VIDEO Shows HILLARY'S Cam...</td>\n",
              "      <td>whoa! new disturbing video shows hillary's cam...</td>\n",
              "      <td>9/19/2016</td>\n",
              "      <td>Buzzfeed</td>\n",
              "      <td>4</td>\n",
              "      <td>14</td>\n",
              "      <td>False</td>\n",
              "      <td>Fake</td>\n",
              "    </tr>\n",
              "    <tr>\n",
              "      <th>5</th>\n",
              "      <td>Is it the Beginning of the End for Hillary Cli...</td>\n",
              "      <td>beginning end hillary clinton? ‚eagle rising</td>\n",
              "      <td>9/21/2016</td>\n",
              "      <td>Buzzfeed</td>\n",
              "      <td>1</td>\n",
              "      <td>6</td>\n",
              "      <td>False</td>\n",
              "      <td>Fake</td>\n",
              "    </tr>\n",
              "  </tbody>\n",
              "</table>\n",
              "</div>\n",
              "      <button class=\"colab-df-convert\" onclick=\"convertToInteractive('df-a71e8b74-73c6-42b0-8128-f39c54b841c8')\"\n",
              "              title=\"Convert this dataframe to an interactive table.\"\n",
              "              style=\"display:none;\">\n",
              "        \n",
              "  <svg xmlns=\"http://www.w3.org/2000/svg\" height=\"24px\"viewBox=\"0 0 24 24\"\n",
              "       width=\"24px\">\n",
              "    <path d=\"M0 0h24v24H0V0z\" fill=\"none\"/>\n",
              "    <path d=\"M18.56 5.44l.94 2.06.94-2.06 2.06-.94-2.06-.94-.94-2.06-.94 2.06-2.06.94zm-11 1L8.5 8.5l.94-2.06 2.06-.94-2.06-.94L8.5 2.5l-.94 2.06-2.06.94zm10 10l.94 2.06.94-2.06 2.06-.94-2.06-.94-.94-2.06-.94 2.06-2.06.94z\"/><path d=\"M17.41 7.96l-1.37-1.37c-.4-.4-.92-.59-1.43-.59-.52 0-1.04.2-1.43.59L10.3 9.45l-7.72 7.72c-.78.78-.78 2.05 0 2.83L4 21.41c.39.39.9.59 1.41.59.51 0 1.02-.2 1.41-.59l7.78-7.78 2.81-2.81c.8-.78.8-2.07 0-2.86zM5.41 20L4 18.59l7.72-7.72 1.47 1.35L5.41 20z\"/>\n",
              "  </svg>\n",
              "      </button>\n",
              "      \n",
              "  <style>\n",
              "    .colab-df-container {\n",
              "      display:flex;\n",
              "      flex-wrap:wrap;\n",
              "      gap: 12px;\n",
              "    }\n",
              "\n",
              "    .colab-df-convert {\n",
              "      background-color: #E8F0FE;\n",
              "      border: none;\n",
              "      border-radius: 50%;\n",
              "      cursor: pointer;\n",
              "      display: none;\n",
              "      fill: #1967D2;\n",
              "      height: 32px;\n",
              "      padding: 0 0 0 0;\n",
              "      width: 32px;\n",
              "    }\n",
              "\n",
              "    .colab-df-convert:hover {\n",
              "      background-color: #E2EBFA;\n",
              "      box-shadow: 0px 1px 2px rgba(60, 64, 67, 0.3), 0px 1px 3px 1px rgba(60, 64, 67, 0.15);\n",
              "      fill: #174EA6;\n",
              "    }\n",
              "\n",
              "    [theme=dark] .colab-df-convert {\n",
              "      background-color: #3B4455;\n",
              "      fill: #D2E3FC;\n",
              "    }\n",
              "\n",
              "    [theme=dark] .colab-df-convert:hover {\n",
              "      background-color: #434B5C;\n",
              "      box-shadow: 0px 1px 3px 1px rgba(0, 0, 0, 0.15);\n",
              "      filter: drop-shadow(0px 1px 2px rgba(0, 0, 0, 0.3));\n",
              "      fill: #FFFFFF;\n",
              "    }\n",
              "  </style>\n",
              "\n",
              "      <script>\n",
              "        const buttonEl =\n",
              "          document.querySelector('#df-a71e8b74-73c6-42b0-8128-f39c54b841c8 button.colab-df-convert');\n",
              "        buttonEl.style.display =\n",
              "          google.colab.kernel.accessAllowed ? 'block' : 'none';\n",
              "\n",
              "        async function convertToInteractive(key) {\n",
              "          const element = document.querySelector('#df-a71e8b74-73c6-42b0-8128-f39c54b841c8');\n",
              "          const dataTable =\n",
              "            await google.colab.kernel.invokeFunction('convertToInteractive',\n",
              "                                                     [key], {});\n",
              "          if (!dataTable) return;\n",
              "\n",
              "          const docLinkHtml = 'Like what you see? Visit the ' +\n",
              "            '<a target=\"_blank\" href=https://colab.research.google.com/notebooks/data_table.ipynb>data table notebook</a>'\n",
              "            + ' to learn more about interactive tables.';\n",
              "          element.innerHTML = '';\n",
              "          dataTable['output_type'] = 'display_data';\n",
              "          await google.colab.output.renderOutput(dataTable, element);\n",
              "          const docLink = document.createElement('div');\n",
              "          docLink.innerHTML = docLinkHtml;\n",
              "          element.appendChild(docLink);\n",
              "        }\n",
              "      </script>\n",
              "    </div>\n",
              "  </div>\n",
              "  "
            ],
            "text/plain": [
              "                                               title  ... label\n",
              "1  Proof The Mainstream Media Is Manipulating The...  ...  Fake\n",
              "2  Trump Latest Campaign Promise May Be His Most ...  ...  Fake\n",
              "3                  Obama Pushes One World Government  ...  Fake\n",
              "4  WHOA! NEW DISTURBING VIDEO Shows HILLARY'S Cam...  ...  Fake\n",
              "5  Is it the Beginning of the End for Hillary Cli...  ...  Fake\n",
              "\n",
              "[5 rows x 8 columns]"
            ]
          },
          "metadata": {},
          "execution_count": 12
        }
      ]
    },
    {
      "cell_type": "code",
      "metadata": {
        "id": "5899a11a-f7e7-4670-912d-d5400684805d"
      },
      "source": [
        "news = news[0 :1000]"
      ],
      "id": "5899a11a-f7e7-4670-912d-d5400684805d",
      "execution_count": null,
      "outputs": []
    },
    {
      "cell_type": "code",
      "metadata": {
        "id": "d98c9e94-b38f-4ac4-a771-a369f23f9cdf"
      },
      "source": [
        "# : get everything , :-1 excludes the last column\n",
        "x = news.iloc[:,:-1].values\n",
        "y = news.iloc[:,-1].values"
      ],
      "id": "d98c9e94-b38f-4ac4-a771-a369f23f9cdf",
      "execution_count": null,
      "outputs": []
    },
    {
      "cell_type": "code",
      "metadata": {
        "colab": {
          "base_uri": "https://localhost:8080/"
        },
        "id": "d1bf091b-a6a4-4eb7-ac51-5338d8f26caf",
        "outputId": "f69a3378-eb11-4dfd-e05d-c16ee05d272e"
      },
      "source": [
        "x[0]"
      ],
      "id": "d1bf091b-a6a4-4eb7-ac51-5338d8f26caf",
      "execution_count": null,
      "outputs": [
        {
          "output_type": "execute_result",
          "data": {
            "text/plain": [
              "array(['Proof The Mainstream Media Is Manipulating The Election By Taking Bill Clinton Out Of Context',\n",
              "       'proof mainstream media manipulating election taking bill clinton context',\n",
              "       '9/19/2016', 'Buzzfeed', '0', '9', 'True'], dtype=object)"
            ]
          },
          "metadata": {},
          "execution_count": 15
        }
      ]
    },
    {
      "cell_type": "code",
      "metadata": {
        "colab": {
          "base_uri": "https://localhost:8080/",
          "height": 35
        },
        "id": "95527680-d2b7-4206-99d9-95fa943f9e7a",
        "outputId": "7b9f98e2-127c-4fe8-e168-cf2ecf887e5b"
      },
      "source": [
        "y[0]"
      ],
      "id": "95527680-d2b7-4206-99d9-95fa943f9e7a",
      "execution_count": null,
      "outputs": [
        {
          "output_type": "execute_result",
          "data": {
            "application/vnd.google.colaboratory.intrinsic+json": {
              "type": "string"
            },
            "text/plain": [
              "'Fake'"
            ]
          },
          "metadata": {},
          "execution_count": 16
        }
      ]
    },
    {
      "cell_type": "code",
      "metadata": {
        "id": "ed59b07f-54cc-4cf7-9ed6-1040ed4383c5"
      },
      "source": [
        "# Convert text data to numerical values\n",
        "from sklearn.feature_extraction.text import CountVectorizer\n",
        "cv = CountVectorizer(max_features=5000)\n",
        "mat_title = cv.fit_transform(x[:,0]).todense()\n",
        "# 0 is the column you are extracting data from"
      ],
      "id": "ed59b07f-54cc-4cf7-9ed6-1040ed4383c5",
      "execution_count": null,
      "outputs": []
    },
    {
      "cell_type": "code",
      "metadata": {
        "colab": {
          "base_uri": "https://localhost:8080/"
        },
        "id": "222e53b5-ff07-4914-a2e5-31d885770b5a",
        "outputId": "83a88007-9f6a-4996-aed6-6dee552a53e5"
      },
      "source": [
        "mat_title"
      ],
      "id": "222e53b5-ff07-4914-a2e5-31d885770b5a",
      "execution_count": null,
      "outputs": [
        {
          "output_type": "execute_result",
          "data": {
            "text/plain": [
              "matrix([[0, 0, 0, ..., 0, 0, 0],\n",
              "        [0, 0, 0, ..., 0, 0, 0],\n",
              "        [0, 0, 0, ..., 0, 0, 0],\n",
              "        ...,\n",
              "        [0, 0, 0, ..., 0, 0, 0],\n",
              "        [0, 0, 0, ..., 0, 0, 0],\n",
              "        [0, 1, 0, ..., 0, 0, 0]])"
            ]
          },
          "metadata": {},
          "execution_count": 18
        }
      ]
    },
    {
      "cell_type": "code",
      "metadata": {
        "id": "aec7bf49-bccc-4092-a5c4-f3f8b0c58628"
      },
      "source": [
        "#Divide training and testing dataset\n",
        "# x-train - trainig set of all the independent variables in x \n",
        "# x-test - testing set of all the independent variables in x\n",
        "# y-train - trainig set of all the independent variables in y \n",
        "# y-test - testing set of all the independent variables in y\n",
        "from sklearn.model_selection import train_test_split\n",
        "x_train, x_test, y_train, y_test = train_test_split (mat_title,y, test_size=0.45, random_state=0)\n",
        "#set the test_size to .2 =  20% which means that 20% of the records would be in the test set. The rest will be in the training set"
      ],
      "id": "aec7bf49-bccc-4092-a5c4-f3f8b0c58628",
      "execution_count": null,
      "outputs": []
    },
    {
      "cell_type": "markdown",
      "metadata": {
        "id": "Z9ARLqLIYhCH"
      },
      "source": [
        "### <font color='blue'>**CROSS VALIDATION**</font>\n"
      ],
      "id": "Z9ARLqLIYhCH"
    },
    {
      "cell_type": "code",
      "metadata": {
        "id": "h76S9P6hbDgW"
      },
      "source": [
        "# https://stackabuse.com/classification-in-python-with-scikit-learn-and-pandas/\n",
        "# fit the model on one set of data\n",
        "# model.fit(x_train, y_train)\n",
        "\n",
        "# evaluate the model on the second set of data\n",
        "# y2_model = model.predict(x_test)"
      ],
      "id": "h76S9P6hbDgW",
      "execution_count": null,
      "outputs": []
    },
    {
      "cell_type": "code",
      "source": [
        "from sklearn.model_selection import KFold \n",
        "kf = KFold(n_splits=10, random_state=None) \n",
        "count = 1 \n",
        "for train_index, test_index in kf.split(mat_title):\n",
        "      print(\"\\n ------------ Fold: \", count)\n",
        "      print(\"Train:\", train_index, \"\\n Validation:\",test_index)\n",
        "      x_train, x_test = x[train_index], x[test_index] \n",
        "      y_train, y_test = y[train_index], y[test_index]\n",
        "      count = count + 1"
      ],
      "metadata": {
        "id": "oYe3UwsqWQZs",
        "colab": {
          "base_uri": "https://localhost:8080/"
        },
        "outputId": "18399d17-546e-4264-e7e9-ad9f57421907"
      },
      "id": "oYe3UwsqWQZs",
      "execution_count": null,
      "outputs": [
        {
          "output_type": "stream",
          "name": "stdout",
          "text": [
            "\n",
            " ------------ Fold:  1\n",
            "Train: [ 272  273  274 ... 2716 2717 2718] \n",
            " Validation: [  0   1   2   3   4   5   6   7   8   9  10  11  12  13  14  15  16  17\n",
            "  18  19  20  21  22  23  24  25  26  27  28  29  30  31  32  33  34  35\n",
            "  36  37  38  39  40  41  42  43  44  45  46  47  48  49  50  51  52  53\n",
            "  54  55  56  57  58  59  60  61  62  63  64  65  66  67  68  69  70  71\n",
            "  72  73  74  75  76  77  78  79  80  81  82  83  84  85  86  87  88  89\n",
            "  90  91  92  93  94  95  96  97  98  99 100 101 102 103 104 105 106 107\n",
            " 108 109 110 111 112 113 114 115 116 117 118 119 120 121 122 123 124 125\n",
            " 126 127 128 129 130 131 132 133 134 135 136 137 138 139 140 141 142 143\n",
            " 144 145 146 147 148 149 150 151 152 153 154 155 156 157 158 159 160 161\n",
            " 162 163 164 165 166 167 168 169 170 171 172 173 174 175 176 177 178 179\n",
            " 180 181 182 183 184 185 186 187 188 189 190 191 192 193 194 195 196 197\n",
            " 198 199 200 201 202 203 204 205 206 207 208 209 210 211 212 213 214 215\n",
            " 216 217 218 219 220 221 222 223 224 225 226 227 228 229 230 231 232 233\n",
            " 234 235 236 237 238 239 240 241 242 243 244 245 246 247 248 249 250 251\n",
            " 252 253 254 255 256 257 258 259 260 261 262 263 264 265 266 267 268 269\n",
            " 270 271]\n",
            "\n",
            " ------------ Fold:  2\n",
            "Train: [   0    1    2 ... 2716 2717 2718] \n",
            " Validation: [272 273 274 275 276 277 278 279 280 281 282 283 284 285 286 287 288 289\n",
            " 290 291 292 293 294 295 296 297 298 299 300 301 302 303 304 305 306 307\n",
            " 308 309 310 311 312 313 314 315 316 317 318 319 320 321 322 323 324 325\n",
            " 326 327 328 329 330 331 332 333 334 335 336 337 338 339 340 341 342 343\n",
            " 344 345 346 347 348 349 350 351 352 353 354 355 356 357 358 359 360 361\n",
            " 362 363 364 365 366 367 368 369 370 371 372 373 374 375 376 377 378 379\n",
            " 380 381 382 383 384 385 386 387 388 389 390 391 392 393 394 395 396 397\n",
            " 398 399 400 401 402 403 404 405 406 407 408 409 410 411 412 413 414 415\n",
            " 416 417 418 419 420 421 422 423 424 425 426 427 428 429 430 431 432 433\n",
            " 434 435 436 437 438 439 440 441 442 443 444 445 446 447 448 449 450 451\n",
            " 452 453 454 455 456 457 458 459 460 461 462 463 464 465 466 467 468 469\n",
            " 470 471 472 473 474 475 476 477 478 479 480 481 482 483 484 485 486 487\n",
            " 488 489 490 491 492 493 494 495 496 497 498 499 500 501 502 503 504 505\n",
            " 506 507 508 509 510 511 512 513 514 515 516 517 518 519 520 521 522 523\n",
            " 524 525 526 527 528 529 530 531 532 533 534 535 536 537 538 539 540 541\n",
            " 542 543]\n",
            "\n",
            " ------------ Fold:  3\n",
            "Train: [   0    1    2 ... 2716 2717 2718] \n",
            " Validation: [544 545 546 547 548 549 550 551 552 553 554 555 556 557 558 559 560 561\n",
            " 562 563 564 565 566 567 568 569 570 571 572 573 574 575 576 577 578 579\n",
            " 580 581 582 583 584 585 586 587 588 589 590 591 592 593 594 595 596 597\n",
            " 598 599 600 601 602 603 604 605 606 607 608 609 610 611 612 613 614 615\n",
            " 616 617 618 619 620 621 622 623 624 625 626 627 628 629 630 631 632 633\n",
            " 634 635 636 637 638 639 640 641 642 643 644 645 646 647 648 649 650 651\n",
            " 652 653 654 655 656 657 658 659 660 661 662 663 664 665 666 667 668 669\n",
            " 670 671 672 673 674 675 676 677 678 679 680 681 682 683 684 685 686 687\n",
            " 688 689 690 691 692 693 694 695 696 697 698 699 700 701 702 703 704 705\n",
            " 706 707 708 709 710 711 712 713 714 715 716 717 718 719 720 721 722 723\n",
            " 724 725 726 727 728 729 730 731 732 733 734 735 736 737 738 739 740 741\n",
            " 742 743 744 745 746 747 748 749 750 751 752 753 754 755 756 757 758 759\n",
            " 760 761 762 763 764 765 766 767 768 769 770 771 772 773 774 775 776 777\n",
            " 778 779 780 781 782 783 784 785 786 787 788 789 790 791 792 793 794 795\n",
            " 796 797 798 799 800 801 802 803 804 805 806 807 808 809 810 811 812 813\n",
            " 814 815]\n",
            "\n",
            " ------------ Fold:  4\n",
            "Train: [   0    1    2 ... 2716 2717 2718] \n",
            " Validation: [ 816  817  818  819  820  821  822  823  824  825  826  827  828  829\n",
            "  830  831  832  833  834  835  836  837  838  839  840  841  842  843\n",
            "  844  845  846  847  848  849  850  851  852  853  854  855  856  857\n",
            "  858  859  860  861  862  863  864  865  866  867  868  869  870  871\n",
            "  872  873  874  875  876  877  878  879  880  881  882  883  884  885\n",
            "  886  887  888  889  890  891  892  893  894  895  896  897  898  899\n",
            "  900  901  902  903  904  905  906  907  908  909  910  911  912  913\n",
            "  914  915  916  917  918  919  920  921  922  923  924  925  926  927\n",
            "  928  929  930  931  932  933  934  935  936  937  938  939  940  941\n",
            "  942  943  944  945  946  947  948  949  950  951  952  953  954  955\n",
            "  956  957  958  959  960  961  962  963  964  965  966  967  968  969\n",
            "  970  971  972  973  974  975  976  977  978  979  980  981  982  983\n",
            "  984  985  986  987  988  989  990  991  992  993  994  995  996  997\n",
            "  998  999 1000 1001 1002 1003 1004 1005 1006 1007 1008 1009 1010 1011\n",
            " 1012 1013 1014 1015 1016 1017 1018 1019 1020 1021 1022 1023 1024 1025\n",
            " 1026 1027 1028 1029 1030 1031 1032 1033 1034 1035 1036 1037 1038 1039\n",
            " 1040 1041 1042 1043 1044 1045 1046 1047 1048 1049 1050 1051 1052 1053\n",
            " 1054 1055 1056 1057 1058 1059 1060 1061 1062 1063 1064 1065 1066 1067\n",
            " 1068 1069 1070 1071 1072 1073 1074 1075 1076 1077 1078 1079 1080 1081\n",
            " 1082 1083 1084 1085 1086 1087]\n",
            "\n",
            " ------------ Fold:  5\n",
            "Train: [   0    1    2 ... 2716 2717 2718] \n",
            " Validation: [1088 1089 1090 1091 1092 1093 1094 1095 1096 1097 1098 1099 1100 1101\n",
            " 1102 1103 1104 1105 1106 1107 1108 1109 1110 1111 1112 1113 1114 1115\n",
            " 1116 1117 1118 1119 1120 1121 1122 1123 1124 1125 1126 1127 1128 1129\n",
            " 1130 1131 1132 1133 1134 1135 1136 1137 1138 1139 1140 1141 1142 1143\n",
            " 1144 1145 1146 1147 1148 1149 1150 1151 1152 1153 1154 1155 1156 1157\n",
            " 1158 1159 1160 1161 1162 1163 1164 1165 1166 1167 1168 1169 1170 1171\n",
            " 1172 1173 1174 1175 1176 1177 1178 1179 1180 1181 1182 1183 1184 1185\n",
            " 1186 1187 1188 1189 1190 1191 1192 1193 1194 1195 1196 1197 1198 1199\n",
            " 1200 1201 1202 1203 1204 1205 1206 1207 1208 1209 1210 1211 1212 1213\n",
            " 1214 1215 1216 1217 1218 1219 1220 1221 1222 1223 1224 1225 1226 1227\n",
            " 1228 1229 1230 1231 1232 1233 1234 1235 1236 1237 1238 1239 1240 1241\n",
            " 1242 1243 1244 1245 1246 1247 1248 1249 1250 1251 1252 1253 1254 1255\n",
            " 1256 1257 1258 1259 1260 1261 1262 1263 1264 1265 1266 1267 1268 1269\n",
            " 1270 1271 1272 1273 1274 1275 1276 1277 1278 1279 1280 1281 1282 1283\n",
            " 1284 1285 1286 1287 1288 1289 1290 1291 1292 1293 1294 1295 1296 1297\n",
            " 1298 1299 1300 1301 1302 1303 1304 1305 1306 1307 1308 1309 1310 1311\n",
            " 1312 1313 1314 1315 1316 1317 1318 1319 1320 1321 1322 1323 1324 1325\n",
            " 1326 1327 1328 1329 1330 1331 1332 1333 1334 1335 1336 1337 1338 1339\n",
            " 1340 1341 1342 1343 1344 1345 1346 1347 1348 1349 1350 1351 1352 1353\n",
            " 1354 1355 1356 1357 1358 1359]\n",
            "\n",
            " ------------ Fold:  6\n",
            "Train: [   0    1    2 ... 2716 2717 2718] \n",
            " Validation: [1360 1361 1362 1363 1364 1365 1366 1367 1368 1369 1370 1371 1372 1373\n",
            " 1374 1375 1376 1377 1378 1379 1380 1381 1382 1383 1384 1385 1386 1387\n",
            " 1388 1389 1390 1391 1392 1393 1394 1395 1396 1397 1398 1399 1400 1401\n",
            " 1402 1403 1404 1405 1406 1407 1408 1409 1410 1411 1412 1413 1414 1415\n",
            " 1416 1417 1418 1419 1420 1421 1422 1423 1424 1425 1426 1427 1428 1429\n",
            " 1430 1431 1432 1433 1434 1435 1436 1437 1438 1439 1440 1441 1442 1443\n",
            " 1444 1445 1446 1447 1448 1449 1450 1451 1452 1453 1454 1455 1456 1457\n",
            " 1458 1459 1460 1461 1462 1463 1464 1465 1466 1467 1468 1469 1470 1471\n",
            " 1472 1473 1474 1475 1476 1477 1478 1479 1480 1481 1482 1483 1484 1485\n",
            " 1486 1487 1488 1489 1490 1491 1492 1493 1494 1495 1496 1497 1498 1499\n",
            " 1500 1501 1502 1503 1504 1505 1506 1507 1508 1509 1510 1511 1512 1513\n",
            " 1514 1515 1516 1517 1518 1519 1520 1521 1522 1523 1524 1525 1526 1527\n",
            " 1528 1529 1530 1531 1532 1533 1534 1535 1536 1537 1538 1539 1540 1541\n",
            " 1542 1543 1544 1545 1546 1547 1548 1549 1550 1551 1552 1553 1554 1555\n",
            " 1556 1557 1558 1559 1560 1561 1562 1563 1564 1565 1566 1567 1568 1569\n",
            " 1570 1571 1572 1573 1574 1575 1576 1577 1578 1579 1580 1581 1582 1583\n",
            " 1584 1585 1586 1587 1588 1589 1590 1591 1592 1593 1594 1595 1596 1597\n",
            " 1598 1599 1600 1601 1602 1603 1604 1605 1606 1607 1608 1609 1610 1611\n",
            " 1612 1613 1614 1615 1616 1617 1618 1619 1620 1621 1622 1623 1624 1625\n",
            " 1626 1627 1628 1629 1630 1631]\n",
            "\n",
            " ------------ Fold:  7\n",
            "Train: [   0    1    2 ... 2716 2717 2718] \n",
            " Validation: [1632 1633 1634 1635 1636 1637 1638 1639 1640 1641 1642 1643 1644 1645\n",
            " 1646 1647 1648 1649 1650 1651 1652 1653 1654 1655 1656 1657 1658 1659\n",
            " 1660 1661 1662 1663 1664 1665 1666 1667 1668 1669 1670 1671 1672 1673\n",
            " 1674 1675 1676 1677 1678 1679 1680 1681 1682 1683 1684 1685 1686 1687\n",
            " 1688 1689 1690 1691 1692 1693 1694 1695 1696 1697 1698 1699 1700 1701\n",
            " 1702 1703 1704 1705 1706 1707 1708 1709 1710 1711 1712 1713 1714 1715\n",
            " 1716 1717 1718 1719 1720 1721 1722 1723 1724 1725 1726 1727 1728 1729\n",
            " 1730 1731 1732 1733 1734 1735 1736 1737 1738 1739 1740 1741 1742 1743\n",
            " 1744 1745 1746 1747 1748 1749 1750 1751 1752 1753 1754 1755 1756 1757\n",
            " 1758 1759 1760 1761 1762 1763 1764 1765 1766 1767 1768 1769 1770 1771\n",
            " 1772 1773 1774 1775 1776 1777 1778 1779 1780 1781 1782 1783 1784 1785\n",
            " 1786 1787 1788 1789 1790 1791 1792 1793 1794 1795 1796 1797 1798 1799\n",
            " 1800 1801 1802 1803 1804 1805 1806 1807 1808 1809 1810 1811 1812 1813\n",
            " 1814 1815 1816 1817 1818 1819 1820 1821 1822 1823 1824 1825 1826 1827\n",
            " 1828 1829 1830 1831 1832 1833 1834 1835 1836 1837 1838 1839 1840 1841\n",
            " 1842 1843 1844 1845 1846 1847 1848 1849 1850 1851 1852 1853 1854 1855\n",
            " 1856 1857 1858 1859 1860 1861 1862 1863 1864 1865 1866 1867 1868 1869\n",
            " 1870 1871 1872 1873 1874 1875 1876 1877 1878 1879 1880 1881 1882 1883\n",
            " 1884 1885 1886 1887 1888 1889 1890 1891 1892 1893 1894 1895 1896 1897\n",
            " 1898 1899 1900 1901 1902 1903]\n",
            "\n",
            " ------------ Fold:  8\n",
            "Train: [   0    1    2 ... 2716 2717 2718] \n",
            " Validation: [1904 1905 1906 1907 1908 1909 1910 1911 1912 1913 1914 1915 1916 1917\n",
            " 1918 1919 1920 1921 1922 1923 1924 1925 1926 1927 1928 1929 1930 1931\n",
            " 1932 1933 1934 1935 1936 1937 1938 1939 1940 1941 1942 1943 1944 1945\n",
            " 1946 1947 1948 1949 1950 1951 1952 1953 1954 1955 1956 1957 1958 1959\n",
            " 1960 1961 1962 1963 1964 1965 1966 1967 1968 1969 1970 1971 1972 1973\n",
            " 1974 1975 1976 1977 1978 1979 1980 1981 1982 1983 1984 1985 1986 1987\n",
            " 1988 1989 1990 1991 1992 1993 1994 1995 1996 1997 1998 1999 2000 2001\n",
            " 2002 2003 2004 2005 2006 2007 2008 2009 2010 2011 2012 2013 2014 2015\n",
            " 2016 2017 2018 2019 2020 2021 2022 2023 2024 2025 2026 2027 2028 2029\n",
            " 2030 2031 2032 2033 2034 2035 2036 2037 2038 2039 2040 2041 2042 2043\n",
            " 2044 2045 2046 2047 2048 2049 2050 2051 2052 2053 2054 2055 2056 2057\n",
            " 2058 2059 2060 2061 2062 2063 2064 2065 2066 2067 2068 2069 2070 2071\n",
            " 2072 2073 2074 2075 2076 2077 2078 2079 2080 2081 2082 2083 2084 2085\n",
            " 2086 2087 2088 2089 2090 2091 2092 2093 2094 2095 2096 2097 2098 2099\n",
            " 2100 2101 2102 2103 2104 2105 2106 2107 2108 2109 2110 2111 2112 2113\n",
            " 2114 2115 2116 2117 2118 2119 2120 2121 2122 2123 2124 2125 2126 2127\n",
            " 2128 2129 2130 2131 2132 2133 2134 2135 2136 2137 2138 2139 2140 2141\n",
            " 2142 2143 2144 2145 2146 2147 2148 2149 2150 2151 2152 2153 2154 2155\n",
            " 2156 2157 2158 2159 2160 2161 2162 2163 2164 2165 2166 2167 2168 2169\n",
            " 2170 2171 2172 2173 2174 2175]\n",
            "\n",
            " ------------ Fold:  9\n",
            "Train: [   0    1    2 ... 2716 2717 2718] \n",
            " Validation: [2176 2177 2178 2179 2180 2181 2182 2183 2184 2185 2186 2187 2188 2189\n",
            " 2190 2191 2192 2193 2194 2195 2196 2197 2198 2199 2200 2201 2202 2203\n",
            " 2204 2205 2206 2207 2208 2209 2210 2211 2212 2213 2214 2215 2216 2217\n",
            " 2218 2219 2220 2221 2222 2223 2224 2225 2226 2227 2228 2229 2230 2231\n",
            " 2232 2233 2234 2235 2236 2237 2238 2239 2240 2241 2242 2243 2244 2245\n",
            " 2246 2247 2248 2249 2250 2251 2252 2253 2254 2255 2256 2257 2258 2259\n",
            " 2260 2261 2262 2263 2264 2265 2266 2267 2268 2269 2270 2271 2272 2273\n",
            " 2274 2275 2276 2277 2278 2279 2280 2281 2282 2283 2284 2285 2286 2287\n",
            " 2288 2289 2290 2291 2292 2293 2294 2295 2296 2297 2298 2299 2300 2301\n",
            " 2302 2303 2304 2305 2306 2307 2308 2309 2310 2311 2312 2313 2314 2315\n",
            " 2316 2317 2318 2319 2320 2321 2322 2323 2324 2325 2326 2327 2328 2329\n",
            " 2330 2331 2332 2333 2334 2335 2336 2337 2338 2339 2340 2341 2342 2343\n",
            " 2344 2345 2346 2347 2348 2349 2350 2351 2352 2353 2354 2355 2356 2357\n",
            " 2358 2359 2360 2361 2362 2363 2364 2365 2366 2367 2368 2369 2370 2371\n",
            " 2372 2373 2374 2375 2376 2377 2378 2379 2380 2381 2382 2383 2384 2385\n",
            " 2386 2387 2388 2389 2390 2391 2392 2393 2394 2395 2396 2397 2398 2399\n",
            " 2400 2401 2402 2403 2404 2405 2406 2407 2408 2409 2410 2411 2412 2413\n",
            " 2414 2415 2416 2417 2418 2419 2420 2421 2422 2423 2424 2425 2426 2427\n",
            " 2428 2429 2430 2431 2432 2433 2434 2435 2436 2437 2438 2439 2440 2441\n",
            " 2442 2443 2444 2445 2446 2447]\n",
            "\n",
            " ------------ Fold:  10\n",
            "Train: [   0    1    2 ... 2445 2446 2447] \n",
            " Validation: [2448 2449 2450 2451 2452 2453 2454 2455 2456 2457 2458 2459 2460 2461\n",
            " 2462 2463 2464 2465 2466 2467 2468 2469 2470 2471 2472 2473 2474 2475\n",
            " 2476 2477 2478 2479 2480 2481 2482 2483 2484 2485 2486 2487 2488 2489\n",
            " 2490 2491 2492 2493 2494 2495 2496 2497 2498 2499 2500 2501 2502 2503\n",
            " 2504 2505 2506 2507 2508 2509 2510 2511 2512 2513 2514 2515 2516 2517\n",
            " 2518 2519 2520 2521 2522 2523 2524 2525 2526 2527 2528 2529 2530 2531\n",
            " 2532 2533 2534 2535 2536 2537 2538 2539 2540 2541 2542 2543 2544 2545\n",
            " 2546 2547 2548 2549 2550 2551 2552 2553 2554 2555 2556 2557 2558 2559\n",
            " 2560 2561 2562 2563 2564 2565 2566 2567 2568 2569 2570 2571 2572 2573\n",
            " 2574 2575 2576 2577 2578 2579 2580 2581 2582 2583 2584 2585 2586 2587\n",
            " 2588 2589 2590 2591 2592 2593 2594 2595 2596 2597 2598 2599 2600 2601\n",
            " 2602 2603 2604 2605 2606 2607 2608 2609 2610 2611 2612 2613 2614 2615\n",
            " 2616 2617 2618 2619 2620 2621 2622 2623 2624 2625 2626 2627 2628 2629\n",
            " 2630 2631 2632 2633 2634 2635 2636 2637 2638 2639 2640 2641 2642 2643\n",
            " 2644 2645 2646 2647 2648 2649 2650 2651 2652 2653 2654 2655 2656 2657\n",
            " 2658 2659 2660 2661 2662 2663 2664 2665 2666 2667 2668 2669 2670 2671\n",
            " 2672 2673 2674 2675 2676 2677 2678 2679 2680 2681 2682 2683 2684 2685\n",
            " 2686 2687 2688 2689 2690 2691 2692 2693 2694 2695 2696 2697 2698 2699\n",
            " 2700 2701 2702 2703 2704 2705 2706 2707 2708 2709 2710 2711 2712 2713\n",
            " 2714 2715 2716 2717 2718]\n"
          ]
        }
      ]
    },
    {
      "cell_type": "code",
      "source": [
        "print(\"\\n Training set:\", x_train, y_train)\n",
        "print(\"\\n Testing set :\", x_test, y_test)"
      ],
      "metadata": {
        "colab": {
          "base_uri": "https://localhost:8080/"
        },
        "id": "RiFZCR_xps97",
        "outputId": "5ee8c106-5314-43f5-9dcf-d43546131d0d"
      },
      "id": "RiFZCR_xps97",
      "execution_count": null,
      "outputs": [
        {
          "output_type": "stream",
          "name": "stdout",
          "text": [
            "\n",
            " Training set: [['Proof The Mainstream Media Is Manipulating The Election By Taking Bill Clinton Out Of Context'\n",
            "  'proof mainstream media manipulating election taking bill clinton context'\n",
            "  '9/19/2016' ... '0' '9' 'True']\n",
            " ['Trump Latest Campaign Promise May Be His Most Horrible One Yet'\n",
            "  'trump latest campaign promise may horrible one yet' '9/19/2016' ...\n",
            "  '0' '8' 'True']\n",
            " ['Obama Pushes One World Government' 'obama pushes one world government'\n",
            "  '9/20/2016' ... '0' '5' 'True']\n",
            " ...\n",
            " ['Sinovac€™s vaccine doses arrive in Davao, Cebu'\n",
            "  'sinovac€™s vaccine doses arrive davao, cebu' '3/2/2021' ... '1' '6'\n",
            "  'False']\n",
            " ['Local chief execs move up in COVID-19 vaccine priority list'\n",
            "  'local chief execs move covid-19 vaccine priority list' '3/20/2021' ...\n",
            "  '1' '8' 'False']\n",
            " ['COVID-19 vaccination law IRR not yet finalized€“ DOH'\n",
            "  'covid-19 vaccination law irr yet finalized€“ doh' '3/21/2021' ... '1'\n",
            "  '8' 'False']] ['Fake' 'Fake' 'Fake' ... 'Real' 'Real' 'Real']\n",
            "\n",
            " Testing set : [['Concepcion to DOH: No discrimination in COVID-19 vaccine access please'\n",
            "  'concepcion doh: discrimination covid-19 vaccine access please'\n",
            "  '3/22/2021' ... '2' '7' 'False']\n",
            " ['Unused vaccines in the province to be redirected to areas with high COVID-19 cases'\n",
            "  'unused vaccines province redirected areas high covid-19 cases'\n",
            "  '3/22/2021' ... '1' '8' 'False']\n",
            " [\"All the COVID-19 vaccines prevent death and severe disease, and that's what matters, experts say\"\n",
            "  \"covid-19 vaccines prevent death severe disease, that's matters, experts say\"\n",
            "  '3/23/2021' ... '4' '10' 'False']\n",
            " ...\n",
            " ['Mixing CanSinoBIO, Sinovac shots induces stronger response than Sinovac alone€“ study'\n",
            "  'mixing cansinobio, sinovac shots induces stronger response sinovac alone€“ study'\n",
            "  '9/7/2021' ... '1' '11' 'False']\n",
            " ['COVID-19 Weekly Watch: Say hello to€˜granular lockdowns€™'\n",
            "  'covid-19 weekly watch: say hello€˜granular lockdowns€™' '9/7/2021' ...\n",
            "  '2' '7' 'False']\n",
            " ['Philippines raises COVID-19 vaccination target to 90% of population'\n",
            "  'philippines raises covid-19 vaccination target 90% population'\n",
            "  '9/9/2021' ... '2' '7' 'False']] ['Real' 'Real' 'Real' 'Fake' 'Real' 'Real' 'Real' 'Fake' 'Real' 'Real'\n",
            " 'Real' 'Real' 'Real' 'Real' 'Real' 'Real' 'Real' 'Real' 'Real' 'Real'\n",
            " 'Real' 'Real' 'Real' 'Real' 'Real' 'Fake' 'Real' 'Real' 'Real' 'Real'\n",
            " 'Real' 'Real' 'Real' 'Real' 'Real' 'Real' 'Real' 'Real' 'Real' 'Real'\n",
            " 'Real' 'Real' 'Real' 'Real' 'Real' 'Real' 'Real' 'Real' 'Real' 'Real'\n",
            " 'Real' 'Real' 'Real' 'Real' 'Real' 'Real' 'Real' 'Real' 'Real' 'Real'\n",
            " 'Real' 'Real' 'Real' 'Real' 'Real' 'Real' 'Real' 'Real' 'Fake' 'Real'\n",
            " 'Real' 'Real' 'Real' 'Real' 'Real' 'Real' 'Real' 'Real' 'Real' 'Real'\n",
            " 'Real' 'Real' 'Real' 'Real' 'Real' 'Real' 'Real' 'Real' 'Real' 'Real'\n",
            " 'Real' 'Fake' 'Real' 'Real' 'Real' 'Real' 'Real' 'Real' 'Real' 'Real'\n",
            " 'Real' 'Real' 'Real' 'Real' 'Real' 'Real' 'Real' 'Real' 'Real' 'Real'\n",
            " 'Real' 'Real' 'Real' 'Real' 'Real' 'Real' 'Real' 'Real' 'Real' 'Real'\n",
            " 'Real' 'Real' 'Real' 'Real' 'Real' 'Real' 'Real' 'Real' 'Real' 'Real'\n",
            " 'Real' 'Real' 'Real' 'Real' 'Real' 'Real' 'Real' 'Real' 'Real' 'Real'\n",
            " 'Real' 'Real' 'Real' 'Real' 'Real' 'Real' 'Real' 'Real' 'Real' 'Real'\n",
            " 'Real' 'Real' 'Real' 'Real' 'Real' 'Fake' 'Real' 'Real' 'Real' 'Real'\n",
            " 'Real' 'Real' 'Real' 'Real' 'Real' 'Real' 'Real' 'Real' 'Real' 'Real'\n",
            " 'Real' 'Real' 'Real' 'Real' 'Real' 'Real' 'Real' 'Real' 'Real' 'Real'\n",
            " 'Real' 'Real' 'Real' 'Real' 'Real' 'Real' 'Real' 'Real' 'Real' 'Real'\n",
            " 'Real' 'Fake' 'Real' 'Real' 'Fake' 'Real' 'Real' 'Real' 'Real' 'Real'\n",
            " 'Real' 'Real' 'Real' 'Real' 'Real' 'Real' 'Real' 'Real' 'Real' 'Real'\n",
            " 'Fake' 'Real' 'Real' 'Real' 'Real' 'Real' 'Real' 'Real' 'Real' 'Real'\n",
            " 'Real' 'Real' 'Real' 'Real' 'Fake' 'Real' 'Real' 'Real' 'Real' 'Real'\n",
            " 'Real' 'Real' 'Real' 'Real' 'Real' 'Real' 'Real' 'Real' 'Real' 'Fake'\n",
            " 'Real' 'Real' 'Real' 'Real' 'Real' 'Real' 'Real' 'Real' 'Real' 'Real'\n",
            " 'Real' 'Real' 'Real' 'Real' 'Real' 'Real' 'Real' 'Real' 'Real' 'Real'\n",
            " 'Real' 'Real' 'Real' 'Real' 'Real' 'Real' 'Real' 'Real' 'Real' 'Real'\n",
            " 'Real']\n"
          ]
        }
      ]
    },
    {
      "cell_type": "code",
      "source": [
        "# Dont mind this part sa\n",
        "# import matplotlib.pyplot as plt\n",
        "# from matplotlib.patches import Patch"
      ],
      "metadata": {
        "id": "HvI9iBYQr5hU"
      },
      "id": "HvI9iBYQr5hU",
      "execution_count": null,
      "outputs": []
    },
    {
      "cell_type": "code",
      "source": [
        "# np.random.seed(1338)"
      ],
      "metadata": {
        "id": "EgbIRFtTr7zW"
      },
      "id": "EgbIRFtTr7zW",
      "execution_count": null,
      "outputs": []
    },
    {
      "cell_type": "code",
      "source": [
        "# from sklearn.model_selection import KFold\n",
        "# kf = KFold(n_splits=10)\n",
        "# kf.get_n_splits(x)\n",
        "# print(kf)\n",
        "\n",
        "# KFold(n_splits=2, random_state=None, shuffle=False)\n",
        "# for train_index, test_index in kf.split(x):\n",
        "#   print(\"TRAIN:\", train_index, \"TEST:\", test_index)\n",
        "#   x_train, x_test = x[train_index], x[test_index]\n",
        "#   y_train, y_test = y[train_index], y[test_index]\n"
      ],
      "metadata": {
        "id": "UqwCHXwIrApY"
      },
      "id": "UqwCHXwIrApY",
      "execution_count": null,
      "outputs": []
    },
    {
      "cell_type": "code",
      "source": [
        "# from sklearn.model_selection import StratifiedKFold\n",
        "# skf = StratifiedKFold(n_splits=10, random_state=None)\n",
        "# # X is the feature set and y is the target\n",
        "# for train_index, val_index in skf.split(x,y): \n",
        "#     print(\"Train:\", train_index, \"Validation:\", val_index) \n",
        "#     x_train, x_test = x[train_index], x[val_index] \n",
        "#     y_train, y_test = y[train_index], y[val_index]"
      ],
      "metadata": {
        "id": "OeFQJ-7Uorb-"
      },
      "id": "OeFQJ-7Uorb-",
      "execution_count": null,
      "outputs": []
    },
    {
      "cell_type": "code",
      "source": [
        "from sklearn.model_selection import cross_val_score\n",
        "from sklearn.linear_model import LogisticRegression\n",
        "from sklearn.model_selection import RepeatedKFold\n",
        "from numpy import mean\n",
        "from numpy import std"
      ],
      "metadata": {
        "id": "Vje6IE52uGGO"
      },
      "id": "Vje6IE52uGGO",
      "execution_count": null,
      "outputs": []
    },
    {
      "cell_type": "code",
      "source": [
        "cv = RepeatedKFold(n_splits=10, n_repeats=3, random_state=1)\n",
        "# create model\n",
        "model = LogisticRegression()\n",
        "# evaluate model\n",
        "scores = cross_val_score(model, mat_title, y, scoring='accuracy', cv=cv, n_jobs=-1)"
      ],
      "metadata": {
        "id": "C65xQq8puOG-"
      },
      "id": "C65xQq8puOG-",
      "execution_count": null,
      "outputs": []
    },
    {
      "cell_type": "code",
      "source": [
        "print('Accuracy: %.3f (%.3f)' % (mean(scores) * 100, std(scores)*100))"
      ],
      "metadata": {
        "colab": {
          "base_uri": "https://localhost:8080/"
        },
        "id": "jyNyMSllubFM",
        "outputId": "b8b1bfe0-d0ab-4b7b-a1b6-fb435787de84"
      },
      "id": "jyNyMSllubFM",
      "execution_count": null,
      "outputs": [
        {
          "output_type": "stream",
          "name": "stdout",
          "text": [
            "Accuracy: 86.036 (1.926)\n"
          ]
        }
      ]
    },
    {
      "cell_type": "markdown",
      "source": [
        "### <font color='blue'>**LOGISTIC REGRESSION**</font>\n"
      ],
      "metadata": {
        "id": "s_z52SKFMYsb"
      },
      "id": "s_z52SKFMYsb"
    },
    {
      "cell_type": "code",
      "source": [
        "from sklearn.linear_model import LogisticRegression\n",
        "log_reg = LogisticRegression().fit(x_train,y_train)"
      ],
      "metadata": {
        "colab": {
          "base_uri": "https://localhost:8080/"
        },
        "id": "9N5JxT34McBU",
        "outputId": "1358237c-b05d-4c51-c8ad-fbd38e45366e"
      },
      "id": "9N5JxT34McBU",
      "execution_count": null,
      "outputs": [
        {
          "output_type": "stream",
          "name": "stderr",
          "text": [
            "/usr/local/lib/python3.7/dist-packages/sklearn/utils/validation.py:590: FutureWarning: np.matrix usage is deprecated in 1.0 and will raise a TypeError in 1.2. Please convert to a numpy array with np.asarray. For more information see: https://numpy.org/doc/stable/reference/generated/numpy.matrix.html\n",
            "  FutureWarning,\n"
          ]
        }
      ]
    },
    {
      "cell_type": "code",
      "source": [
        "print(\"Training set score: {:.0f}%\".format(log_reg.score(x_train,y_train)*100))\n",
        "print(\"Test set score: {:.0f}%\".format(log_reg.score(x_test,y_test)*100))"
      ],
      "metadata": {
        "colab": {
          "base_uri": "https://localhost:8080/"
        },
        "id": "yPyETiwgvvB2",
        "outputId": "183970da-f07e-4e59-bef0-8357609c73ee"
      },
      "id": "yPyETiwgvvB2",
      "execution_count": null,
      "outputs": [
        {
          "output_type": "stream",
          "name": "stdout",
          "text": [
            "Training set score: 99%\n",
            "Test set score: 83%\n"
          ]
        },
        {
          "output_type": "stream",
          "name": "stderr",
          "text": [
            "/usr/local/lib/python3.7/dist-packages/sklearn/utils/validation.py:590: FutureWarning: np.matrix usage is deprecated in 1.0 and will raise a TypeError in 1.2. Please convert to a numpy array with np.asarray. For more information see: https://numpy.org/doc/stable/reference/generated/numpy.matrix.html\n",
            "  FutureWarning,\n",
            "/usr/local/lib/python3.7/dist-packages/sklearn/utils/validation.py:590: FutureWarning: np.matrix usage is deprecated in 1.0 and will raise a TypeError in 1.2. Please convert to a numpy array with np.asarray. For more information see: https://numpy.org/doc/stable/reference/generated/numpy.matrix.html\n",
            "  FutureWarning,\n"
          ]
        }
      ]
    },
    {
      "cell_type": "code",
      "source": [
        "logR_pred = log_reg.predict(x_test)"
      ],
      "metadata": {
        "colab": {
          "base_uri": "https://localhost:8080/"
        },
        "id": "T-W66AgJMzAo",
        "outputId": "14a58088-ad16-4900-9c61-aaeb4547e053"
      },
      "id": "T-W66AgJMzAo",
      "execution_count": null,
      "outputs": [
        {
          "output_type": "stream",
          "name": "stderr",
          "text": [
            "/usr/local/lib/python3.7/dist-packages/sklearn/utils/validation.py:590: FutureWarning: np.matrix usage is deprecated in 1.0 and will raise a TypeError in 1.2. Please convert to a numpy array with np.asarray. For more information see: https://numpy.org/doc/stable/reference/generated/numpy.matrix.html\n",
            "  FutureWarning,\n"
          ]
        }
      ]
    },
    {
      "cell_type": "code",
      "source": [
        "import sklearn.metrics as metrics\n",
        "from sklearn.metrics import roc_auc_score\n",
        "from sklearn.metrics import matthews_corrcoef"
      ],
      "metadata": {
        "id": "eqDBdN5BYutT"
      },
      "id": "eqDBdN5BYutT",
      "execution_count": null,
      "outputs": []
    },
    {
      "cell_type": "code",
      "source": [
        "print(\"-------LOGISTIC REGRESSION------\")\n",
        "print(\"Logistic Regression accuracy:\", metrics.accuracy_score(y_test, logR_pred)*100)\n",
        "print(\"Logistic Regression fscore:\", metrics.f1_score(y_test, logR_pred,average='weighted')*100)\n",
        "print(\"Logistic Regression precision:\", metrics.precision_score(y_test, logR_pred,average='weighted')*100)\n",
        "print(\"Logistic Regression recall:\", metrics.recall_score(y_test, logR_pred,average='weighted')*100)\n",
        "print(\"Logistic Regression ROC_AOC:\", roc_auc_score(y, log_reg.predict_proba(mat_title)[:, 1]) * 100)\n",
        "print(\"Logistic Regression MCC:\", matthews_corrcoef(y_test, logR_pred)*100)"
      ],
      "metadata": {
        "colab": {
          "base_uri": "https://localhost:8080/"
        },
        "id": "3pOJaMKkM7HT",
        "outputId": "311dff38-0953-4035-dfa3-c4432b3e842c"
      },
      "id": "3pOJaMKkM7HT",
      "execution_count": null,
      "outputs": [
        {
          "output_type": "stream",
          "name": "stdout",
          "text": [
            "-------LOGISTIC REGRESSION------\n",
            "Logistic Regression accuracy: 83.49673202614379\n",
            "Logistic Regression fscore: 82.53867502306397\n",
            "Logistic Regression precision: 82.37196180555556\n",
            "Logistic Regression recall: 83.49673202614379\n",
            "Logistic Regression ROC_AOC: 95.98631429919774\n",
            "Logistic Regression MCC: 48.131413359768786\n"
          ]
        },
        {
          "output_type": "stream",
          "name": "stderr",
          "text": [
            "/usr/local/lib/python3.7/dist-packages/sklearn/utils/validation.py:590: FutureWarning: np.matrix usage is deprecated in 1.0 and will raise a TypeError in 1.2. Please convert to a numpy array with np.asarray. For more information see: https://numpy.org/doc/stable/reference/generated/numpy.matrix.html\n",
            "  FutureWarning,\n"
          ]
        }
      ]
    },
    {
      "cell_type": "markdown",
      "metadata": {
        "id": "wty3sIlBf_2n"
      },
      "source": [
        "### <font color='blue'>**NAIVE BAYES**</font>\n"
      ],
      "id": "wty3sIlBf_2n"
    },
    {
      "cell_type": "code",
      "source": [
        "from sklearn.naive_bayes import GaussianNB\n",
        "gnb = GaussianNB()\n",
        "nb_reg = GaussianNB().fit(x_train,y_train)\n",
        "# gnb.fit(x_train, y_train)"
      ],
      "metadata": {
        "id": "-pt7gkH6FQCG",
        "colab": {
          "base_uri": "https://localhost:8080/"
        },
        "outputId": "6bdc5608-07aa-490a-f71a-74b58d187d32"
      },
      "id": "-pt7gkH6FQCG",
      "execution_count": null,
      "outputs": [
        {
          "output_type": "stream",
          "name": "stderr",
          "text": [
            "/usr/local/lib/python3.7/dist-packages/sklearn/utils/validation.py:598: FutureWarning: np.matrix usage is deprecated in 1.0 and will raise a TypeError in 1.2. Please convert to a numpy array with np.asarray. For more information see: https://numpy.org/doc/stable/reference/generated/numpy.matrix.html\n",
            "  FutureWarning,\n"
          ]
        }
      ]
    },
    {
      "cell_type": "code",
      "source": [
        "nb_pred = nb_reg.predict(x_test)"
      ],
      "metadata": {
        "id": "B5JYjANaFRjO",
        "colab": {
          "base_uri": "https://localhost:8080/"
        },
        "outputId": "190e0b65-244e-4113-a1f4-818f5bb5933a"
      },
      "id": "B5JYjANaFRjO",
      "execution_count": null,
      "outputs": [
        {
          "output_type": "stream",
          "name": "stderr",
          "text": [
            "/usr/local/lib/python3.7/dist-packages/sklearn/utils/validation.py:598: FutureWarning: np.matrix usage is deprecated in 1.0 and will raise a TypeError in 1.2. Please convert to a numpy array with np.asarray. For more information see: https://numpy.org/doc/stable/reference/generated/numpy.matrix.html\n",
            "  FutureWarning,\n"
          ]
        }
      ]
    },
    {
      "cell_type": "code",
      "source": [
        "print(\"Training set score: {:.0f}%\".format(nb_reg.score(x_train,y_train)*100))\n",
        "print(\"Test set score: {:.0f}%\".format(nb_reg.score(x_test,y_test)*100))"
      ],
      "metadata": {
        "colab": {
          "base_uri": "https://localhost:8080/"
        },
        "id": "InYoO_kDMt5w",
        "outputId": "06e74782-872a-4715-9ee3-97074ccb2201"
      },
      "id": "InYoO_kDMt5w",
      "execution_count": null,
      "outputs": [
        {
          "output_type": "stream",
          "name": "stdout",
          "text": [
            "Training set score: 100%\n",
            "Test set score: 64%\n"
          ]
        },
        {
          "output_type": "stream",
          "name": "stderr",
          "text": [
            "/usr/local/lib/python3.7/dist-packages/sklearn/utils/validation.py:598: FutureWarning: np.matrix usage is deprecated in 1.0 and will raise a TypeError in 1.2. Please convert to a numpy array with np.asarray. For more information see: https://numpy.org/doc/stable/reference/generated/numpy.matrix.html\n",
            "  FutureWarning,\n",
            "/usr/local/lib/python3.7/dist-packages/sklearn/utils/validation.py:598: FutureWarning: np.matrix usage is deprecated in 1.0 and will raise a TypeError in 1.2. Please convert to a numpy array with np.asarray. For more information see: https://numpy.org/doc/stable/reference/generated/numpy.matrix.html\n",
            "  FutureWarning,\n"
          ]
        }
      ]
    },
    {
      "cell_type": "code",
      "source": [
        ""
      ],
      "metadata": {
        "id": "dhGZkSssXodZ"
      },
      "id": "dhGZkSssXodZ",
      "execution_count": null,
      "outputs": []
    },
    {
      "cell_type": "code",
      "source": [
        "print(\"-------NAIVE BAYES------\")\n",
        "print(\"Gaussian Naive Bayes model accuracy:\", metrics.accuracy_score(y_test, nb_pred)*100)\n",
        "print(\"Gaussian Naive Bayes model fscore:\", metrics.f1_score(y_test, nb_pred,average='weighted')*100)\n",
        "print(\"Gaussian Naive Bayes model precision:\", metrics.precision_score(y_test, nb_pred,average='weighted')*100)\n",
        "print(\"Gaussian Naive Bayes model recall:\", metrics.recall_score(y_test, nb_pred,average='weighted')*100)\n",
        "print(\"Gaussian Naive Bayes model ROC_AOC:\", roc_auc_score(y, nb_reg.predict_proba(mat_title)[:, 1]) * 100)\n",
        "print(\"Gaussian Naive Bayes model MCC:\", matthews_corrcoef(y_test, nb_pred)*100)"
      ],
      "metadata": {
        "colab": {
          "base_uri": "https://localhost:8080/"
        },
        "id": "IvCLW7_RFS-K",
        "outputId": "7b285684-b3c3-4d32-bcef-3a516c03ab96"
      },
      "id": "IvCLW7_RFS-K",
      "execution_count": null,
      "outputs": [
        {
          "output_type": "stream",
          "name": "stdout",
          "text": [
            "-------NAIVE BAYES------\n",
            "Gaussian Naive Bayes model accuracy: 63.77777777777778\n",
            "Gaussian Naive Bayes model fscore: 64.0242735708433\n",
            "Gaussian Naive Bayes model precision: 64.79677113010447\n",
            "Gaussian Naive Bayes model recall: 63.77777777777778\n",
            "Gaussian Naive Bayes model ROC_AOC: 83.70053039575684\n",
            "Gaussian Naive Bayes model MCC: 27.293599769470887\n"
          ]
        },
        {
          "output_type": "stream",
          "name": "stderr",
          "text": [
            "/usr/local/lib/python3.7/dist-packages/sklearn/utils/validation.py:598: FutureWarning: np.matrix usage is deprecated in 1.0 and will raise a TypeError in 1.2. Please convert to a numpy array with np.asarray. For more information see: https://numpy.org/doc/stable/reference/generated/numpy.matrix.html\n",
            "  FutureWarning,\n"
          ]
        }
      ]
    },
    {
      "cell_type": "markdown",
      "metadata": {
        "id": "LbOT6qoJWmYQ"
      },
      "source": [
        "### <font color='blue'>**DECISION TREE**</font>\n"
      ],
      "id": "LbOT6qoJWmYQ"
    },
    {
      "cell_type": "code",
      "metadata": {
        "id": "-NLzqZLxWtpJ"
      },
      "source": [
        "# https://www.datacamp.com/community/tutorials/decision-tree-classification-python\n",
        "from sklearn.tree import DecisionTreeClassifier # Import Decision Tree Classifier\n",
        "from sklearn import tree"
      ],
      "id": "-NLzqZLxWtpJ",
      "execution_count": null,
      "outputs": []
    },
    {
      "cell_type": "code",
      "source": [
        "clf = DecisionTreeClassifier(criterion=\"entropy\", max_depth=3)\n",
        "# Train Decision Tree Classifer\n",
        "clf = clf.fit(x_train,y_train)\n",
        "#Predict the response for test dataset\n",
        "dec_pred = clf.predict(x_test)"
      ],
      "metadata": {
        "id": "7vZFJ-7jRRu-",
        "colab": {
          "base_uri": "https://localhost:8080/"
        },
        "outputId": "b7b850f0-64ba-48ce-e641-7ac3927ff5ce"
      },
      "id": "7vZFJ-7jRRu-",
      "execution_count": null,
      "outputs": [
        {
          "output_type": "stream",
          "name": "stderr",
          "text": [
            "/usr/local/lib/python3.7/dist-packages/sklearn/utils/validation.py:598: FutureWarning: np.matrix usage is deprecated in 1.0 and will raise a TypeError in 1.2. Please convert to a numpy array with np.asarray. For more information see: https://numpy.org/doc/stable/reference/generated/numpy.matrix.html\n",
            "  FutureWarning,\n",
            "/usr/local/lib/python3.7/dist-packages/sklearn/utils/validation.py:598: FutureWarning: np.matrix usage is deprecated in 1.0 and will raise a TypeError in 1.2. Please convert to a numpy array with np.asarray. For more information see: https://numpy.org/doc/stable/reference/generated/numpy.matrix.html\n",
            "  FutureWarning,\n"
          ]
        }
      ]
    },
    {
      "cell_type": "code",
      "source": [
        "print(\"-------DECISION TREE------\")\n",
        "print(\"Decision Tree accuracy:\", metrics.accuracy_score(y_test, dec_pred)*100)\n",
        "print(\"Decision Tree fscore:\", metrics.f1_score(y_test, dec_pred,average='weighted')*100)\n",
        "print(\"Decision Tree precision:\", metrics.precision_score(y_test, dec_pred,average='weighted')*100)\n",
        "print(\"Decision Tree recall:\", metrics.recall_score(y_test, dec_pred,average='weighted')*100)\n",
        "print(\"Decision Tree ROC_AUC:\", roc_auc_score(y, clf.predict_proba(mat_title)[:, 1]) * 100)\n",
        "print(\"Decision Tree MCC:\", matthews_corrcoef(y_test, dec_pred)*100)"
      ],
      "metadata": {
        "colab": {
          "base_uri": "https://localhost:8080/"
        },
        "id": "iLIkz1T-RcHn",
        "outputId": "54f2e9ce-1af4-4a69-a8d7-8b0f8ace879c"
      },
      "id": "iLIkz1T-RcHn",
      "execution_count": null,
      "outputs": [
        {
          "output_type": "stream",
          "name": "stdout",
          "text": [
            "-------DECISION TREE------\n",
            "Decision Tree accuracy: 65.77777777777779\n",
            "Decision Tree fscore: 65.14209401709402\n",
            "Decision Tree precision: 73.12708787218591\n",
            "Decision Tree recall: 65.77777777777779\n",
            "Decision Tree ROC_AUC: 68.61893104855162\n",
            "Decision Tree MCC: 39.5798716182891\n"
          ]
        },
        {
          "output_type": "stream",
          "name": "stderr",
          "text": [
            "/usr/local/lib/python3.7/dist-packages/sklearn/utils/validation.py:598: FutureWarning: np.matrix usage is deprecated in 1.0 and will raise a TypeError in 1.2. Please convert to a numpy array with np.asarray. For more information see: https://numpy.org/doc/stable/reference/generated/numpy.matrix.html\n",
            "  FutureWarning,\n"
          ]
        }
      ]
    },
    {
      "cell_type": "code",
      "source": [
        "tree.plot_tree(clf)"
      ],
      "metadata": {
        "colab": {
          "base_uri": "https://localhost:8080/",
          "height": 503
        },
        "outputId": "97050481-898a-4406-b2e7-0df18250e732",
        "id": "xDSWWqNv6zJF"
      },
      "execution_count": null,
      "outputs": [
        {
          "output_type": "execute_result",
          "data": {
            "text/plain": [
              "[Text(167.4, 190.26, 'X[4689] <= 0.5\\nentropy = 0.759\\nsamples = 1495\\nvalue = [328, 1167]'),\n",
              " Text(83.7, 135.9, 'X[4692] <= 0.5\\nentropy = 0.856\\nsamples = 1112\\nvalue = [312, 800]'),\n",
              " Text(41.85, 81.53999999999999, 'X[3713] <= 0.5\\nentropy = 0.915\\nsamples = 939\\nvalue = [310, 629]'),\n",
              " Text(20.925, 27.180000000000007, 'entropy = 0.839\\nsamples = 761\\nvalue = [204, 557]'),\n",
              " Text(62.775000000000006, 27.180000000000007, 'entropy = 0.974\\nsamples = 178\\nvalue = [106, 72]'),\n",
              " Text(125.55000000000001, 81.53999999999999, 'X[3499] <= 0.5\\nentropy = 0.091\\nsamples = 173\\nvalue = [2, 171]'),\n",
              " Text(104.625, 27.180000000000007, 'entropy = 0.052\\nsamples = 172\\nvalue = [1, 171]'),\n",
              " Text(146.475, 27.180000000000007, 'entropy = 0.0\\nsamples = 1\\nvalue = [1, 0]'),\n",
              " Text(251.10000000000002, 135.9, 'X[3885] <= 0.5\\nentropy = 0.25\\nsamples = 383\\nvalue = [16, 367]'),\n",
              " Text(209.25, 81.53999999999999, 'X[4372] <= 2.5\\nentropy = 0.216\\nsamples = 379\\nvalue = [13, 366]'),\n",
              " Text(188.32500000000002, 27.180000000000007, 'entropy = 0.19\\nsamples = 377\\nvalue = [11, 366]'),\n",
              " Text(230.175, 27.180000000000007, 'entropy = 0.0\\nsamples = 2\\nvalue = [2, 0]'),\n",
              " Text(292.95, 81.53999999999999, 'X[4171] <= 0.5\\nentropy = 0.811\\nsamples = 4\\nvalue = [3, 1]'),\n",
              " Text(272.02500000000003, 27.180000000000007, 'entropy = 0.0\\nsamples = 3\\nvalue = [3, 0]'),\n",
              " Text(313.875, 27.180000000000007, 'entropy = 0.0\\nsamples = 1\\nvalue = [0, 1]')]"
            ]
          },
          "metadata": {},
          "execution_count": 137
        },
        {
          "output_type": "display_data",
          "data": {
            "image/png": "[encoded data removed]",
            "text/plain": [
              "<Figure size 432x288 with 1 Axes>"
            ]
          },
          "metadata": {
            "needs_background": "light"
          }
        }
      ],
      "id": "xDSWWqNv6zJF"
    },
    {
      "cell_type": "code",
      "source": [
        "pip install graphviz"
      ],
      "metadata": {
        "colab": {
          "base_uri": "https://localhost:8080/"
        },
        "id": "CgHYQgl-V75j",
        "outputId": "bd51ff73-2517-4630-a4f2-fbe56f87b8be"
      },
      "id": "CgHYQgl-V75j",
      "execution_count": null,
      "outputs": [
        {
          "output_type": "stream",
          "name": "stdout",
          "text": [
            "Requirement already satisfied: graphviz in /usr/local/lib/python3.7/dist-packages (0.10.1)\n"
          ]
        }
      ]
    },
    {
      "cell_type": "markdown",
      "metadata": {
        "id": "WzNO1fKDf2yC"
      },
      "source": [
        "### <font color='blue'>**CONFUSION MATRIX**</font>\n"
      ],
      "id": "WzNO1fKDf2yC"
    },
    {
      "cell_type": "code",
      "metadata": {
        "colab": {
          "base_uri": "https://localhost:8080/"
        },
        "id": "71e3cd9a-7571-4576-92a8-a371ddb87b9b",
        "outputId": "ebf49ca1-3970-417e-a920-11530a5db861"
      },
      "source": [
        "from sklearn.metrics import confusion_matrix\n",
        "confusion_matrix(y_test, dec_pred)"
      ],
      "id": "71e3cd9a-7571-4576-92a8-a371ddb87b9b",
      "execution_count": null,
      "outputs": [
        {
          "output_type": "execute_result",
          "data": {
            "text/plain": [
              "array([[ 94, 178],\n",
              "       [ 72, 880]])"
            ]
          },
          "metadata": {},
          "execution_count": 140
        }
      ]
    },
    {
      "cell_type": "code",
      "metadata": {
        "id": "xxSRZLwLcSYC",
        "colab": {
          "base_uri": "https://localhost:8080/"
        },
        "outputId": "4327b928-77da-40bf-992e-cc10350e4833"
      },
      "source": [
        "# from sklearn.tree import DecisionTreeClassifier\n",
        "# dtc = DecisionTreeClassifier(criterion='entropy')\n",
        "# dtc.fit(x_train, y_train)\n",
        "# cm_pred = dtc.predict(x_test)"
      ],
      "id": "xxSRZLwLcSYC",
      "execution_count": null,
      "outputs": [
        {
          "output_type": "stream",
          "name": "stderr",
          "text": [
            "/usr/local/lib/python3.7/dist-packages/sklearn/utils/validation.py:590: FutureWarning: np.matrix usage is deprecated in 1.0 and will raise a TypeError in 1.2. Please convert to a numpy array with np.asarray. For more information see: https://numpy.org/doc/stable/reference/generated/numpy.matrix.html\n",
            "  FutureWarning,\n",
            "/usr/local/lib/python3.7/dist-packages/sklearn/utils/validation.py:590: FutureWarning: np.matrix usage is deprecated in 1.0 and will raise a TypeError in 1.2. Please convert to a numpy array with np.asarray. For more information see: https://numpy.org/doc/stable/reference/generated/numpy.matrix.html\n",
            "  FutureWarning,\n"
          ]
        }
      ]
    }
  ]
}