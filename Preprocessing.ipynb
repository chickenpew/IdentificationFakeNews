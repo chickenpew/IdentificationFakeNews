{
  "nbformat": 4,
  "nbformat_minor": 0,
  "metadata": {
    "colab": {
      "name": "numWords-numPunct-isCap.ipynb",
      "provenance": [],
      "toc_visible": true
    },
    "kernelspec": {
      "name": "python3",
      "display_name": "Python 3"
    },
    "language_info": {
      "name": "python"
    }
  },
  "cells": [
    {
      "cell_type": "code",
      "metadata": {
        "colab": {
          "base_uri": "https://localhost:8080/"
        },
        "id": "X6jpRh2-Pg6A",
        "outputId": "d1208d6b-e613-41d6-8f17-c2bc9f3b7de6"
      },
      "source": [
        "from google.colab import drive\n",
        "drive.mount('/content/drive/')"
      ],
      "execution_count": null,
      "outputs": [
        {
          "output_type": "stream",
          "name": "stdout",
          "text": [
            "Mounted at /content/drive/\n"
          ]
        }
      ]
    },
    {
      "cell_type": "code",
      "metadata": {
        "id": "wuy7ZrR3P7DV"
      },
      "source": [
        "fn2 = '/content/drive/MyDrive/Colab Notebooks/testing_dataset_withclass.csv'\n",
        "filename = '/content/drive/MyDrive/Colab Notebooks/training-dataset 2.0.csv'"
      ],
      "execution_count": null,
      "outputs": []
    },
    {
      "cell_type": "code",
      "metadata": {
        "id": "zBxr-1H3nPbC"
      },
      "source": [
        "testing_dataset_withclass.csv"
      ],
      "execution_count": null,
      "outputs": []
    },
    {
      "cell_type": "code",
      "metadata": {
        "id": "NKVat0otQgvh"
      },
      "source": [
        "import pandas as pd\n",
        "import re\n",
        "import string\n",
        "from google.colab import files\n",
        "import numpy as np"
      ],
      "execution_count": null,
      "outputs": []
    },
    {
      "cell_type": "code",
      "metadata": {
        "colab": {
          "base_uri": "https://localhost:8080/",
          "height": 289
        },
        "id": "BD3oHAz-Qjq4",
        "outputId": "61f971ec-0ab8-4585-a1a9-ec3ff47300e1"
      },
      "source": [
        "df = pd.read_csv(filename, encoding='utf-8')\n",
        "df.head()"
      ],
      "execution_count": null,
      "outputs": [
        {
          "output_type": "execute_result",
          "data": {
            "text/html": [
              "<div>\n",
              "<style scoped>\n",
              "    .dataframe tbody tr th:only-of-type {\n",
              "        vertical-align: middle;\n",
              "    }\n",
              "\n",
              "    .dataframe tbody tr th {\n",
              "        vertical-align: top;\n",
              "    }\n",
              "\n",
              "    .dataframe thead th {\n",
              "        text-align: right;\n",
              "    }\n",
              "</style>\n",
              "<table border=\"1\" class=\"dataframe\">\n",
              "  <thead>\n",
              "    <tr style=\"text-align: right;\">\n",
              "      <th></th>\n",
              "      <th>Unnamed: 0</th>\n",
              "      <th>title</th>\n",
              "      <th>without_stopwords</th>\n",
              "      <th>publish_date</th>\n",
              "      <th>date</th>\n",
              "      <th>source</th>\n",
              "      <th>numPunct</th>\n",
              "      <th>numWords</th>\n",
              "      <th>isCap</th>\n",
              "      <th>class</th>\n",
              "    </tr>\n",
              "  </thead>\n",
              "  <tbody>\n",
              "    <tr>\n",
              "      <th>0</th>\n",
              "      <td>0</td>\n",
              "      <td>Proof The Mainstream Media Is Manipulating The...</td>\n",
              "      <td>proof mainstream media manipulating election t...</td>\n",
              "      <td>##############################################...</td>\n",
              "      <td>9/19/2016</td>\n",
              "      <td>Buzzfeed</td>\n",
              "      <td>0</td>\n",
              "      <td>9</td>\n",
              "      <td>True</td>\n",
              "      <td>Fake</td>\n",
              "    </tr>\n",
              "    <tr>\n",
              "      <th>1</th>\n",
              "      <td>3</td>\n",
              "      <td>Trump Latest Campaign Promise May Be His Most ...</td>\n",
              "      <td>trump latest campaign promise may horrible one...</td>\n",
              "      <td>##############################################...</td>\n",
              "      <td>9/19/2016</td>\n",
              "      <td>Buzzfeed</td>\n",
              "      <td>0</td>\n",
              "      <td>8</td>\n",
              "      <td>True</td>\n",
              "      <td>Fake</td>\n",
              "    </tr>\n",
              "    <tr>\n",
              "      <th>2</th>\n",
              "      <td>5</td>\n",
              "      <td>Obama Pushes One World Government</td>\n",
              "      <td>obama pushes one world government</td>\n",
              "      <td>##############################################...</td>\n",
              "      <td>9/20/2016</td>\n",
              "      <td>Buzzfeed</td>\n",
              "      <td>0</td>\n",
              "      <td>5</td>\n",
              "      <td>True</td>\n",
              "      <td>Fake</td>\n",
              "    </tr>\n",
              "    <tr>\n",
              "      <th>3</th>\n",
              "      <td>7</td>\n",
              "      <td>WHOA! NEW DISTURBING VIDEO Shows HILLARY'S Cam...</td>\n",
              "      <td>whoa! new disturbing video shows hillary's cam...</td>\n",
              "      <td>##############################################...</td>\n",
              "      <td>9/19/2016</td>\n",
              "      <td>Buzzfeed</td>\n",
              "      <td>4</td>\n",
              "      <td>14</td>\n",
              "      <td>False</td>\n",
              "      <td>Fake</td>\n",
              "    </tr>\n",
              "    <tr>\n",
              "      <th>4</th>\n",
              "      <td>8</td>\n",
              "      <td>Is it the Beginning of the End for Hillary Cli...</td>\n",
              "      <td>beginning end hillary clinton? ‚eagle rising</td>\n",
              "      <td>##############################################...</td>\n",
              "      <td>9/21/2016</td>\n",
              "      <td>Buzzfeed</td>\n",
              "      <td>1</td>\n",
              "      <td>6</td>\n",
              "      <td>False</td>\n",
              "      <td>Fake</td>\n",
              "    </tr>\n",
              "  </tbody>\n",
              "</table>\n",
              "</div>"
            ],
            "text/plain": [
              "   Unnamed: 0                                              title  ...  isCap class\n",
              "0           0  Proof The Mainstream Media Is Manipulating The...  ...   True  Fake\n",
              "1           3  Trump Latest Campaign Promise May Be His Most ...  ...   True  Fake\n",
              "2           5                  Obama Pushes One World Government  ...   True  Fake\n",
              "3           7  WHOA! NEW DISTURBING VIDEO Shows HILLARY'S Cam...  ...  False  Fake\n",
              "4           8  Is it the Beginning of the End for Hillary Cli...  ...  False  Fake\n",
              "\n",
              "[5 rows x 10 columns]"
            ]
          },
          "metadata": {},
          "execution_count": 105
        }
      ]
    },
    {
      "cell_type": "code",
      "metadata": {
        "id": "TlY0e_jZDOku"
      },
      "source": [
        "to_drop= ['publish_date']\n",
        "df.drop(to_drop, inplace=True, axis=1)"
      ],
      "execution_count": null,
      "outputs": []
    },
    {
      "cell_type": "code",
      "metadata": {
        "colab": {
          "base_uri": "https://localhost:8080/",
          "height": 204
        },
        "id": "32qsnU6QDS0O",
        "outputId": "496de075-6fcf-4fc6-b8da-1e431f2cda4b"
      },
      "source": [
        "df.head()"
      ],
      "execution_count": null,
      "outputs": [
        {
          "output_type": "execute_result",
          "data": {
            "text/html": [
              "<div>\n",
              "<style scoped>\n",
              "    .dataframe tbody tr th:only-of-type {\n",
              "        vertical-align: middle;\n",
              "    }\n",
              "\n",
              "    .dataframe tbody tr th {\n",
              "        vertical-align: top;\n",
              "    }\n",
              "\n",
              "    .dataframe thead th {\n",
              "        text-align: right;\n",
              "    }\n",
              "</style>\n",
              "<table border=\"1\" class=\"dataframe\">\n",
              "  <thead>\n",
              "    <tr style=\"text-align: right;\">\n",
              "      <th></th>\n",
              "      <th>Unnamed: 0</th>\n",
              "      <th>title</th>\n",
              "      <th>without_stopwords</th>\n",
              "      <th>date</th>\n",
              "      <th>source</th>\n",
              "      <th>numPunct</th>\n",
              "      <th>numWords</th>\n",
              "      <th>isCap</th>\n",
              "      <th>class</th>\n",
              "    </tr>\n",
              "  </thead>\n",
              "  <tbody>\n",
              "    <tr>\n",
              "      <th>0</th>\n",
              "      <td>0</td>\n",
              "      <td>Proof The Mainstream Media Is Manipulating The...</td>\n",
              "      <td>proof mainstream media manipulating election t...</td>\n",
              "      <td>9/19/2016</td>\n",
              "      <td>Buzzfeed</td>\n",
              "      <td>0</td>\n",
              "      <td>9</td>\n",
              "      <td>True</td>\n",
              "      <td>Fake</td>\n",
              "    </tr>\n",
              "    <tr>\n",
              "      <th>1</th>\n",
              "      <td>3</td>\n",
              "      <td>Trump Latest Campaign Promise May Be His Most ...</td>\n",
              "      <td>trump latest campaign promise may horrible one...</td>\n",
              "      <td>9/19/2016</td>\n",
              "      <td>Buzzfeed</td>\n",
              "      <td>0</td>\n",
              "      <td>8</td>\n",
              "      <td>True</td>\n",
              "      <td>Fake</td>\n",
              "    </tr>\n",
              "    <tr>\n",
              "      <th>2</th>\n",
              "      <td>5</td>\n",
              "      <td>Obama Pushes One World Government</td>\n",
              "      <td>obama pushes one world government</td>\n",
              "      <td>9/20/2016</td>\n",
              "      <td>Buzzfeed</td>\n",
              "      <td>0</td>\n",
              "      <td>5</td>\n",
              "      <td>True</td>\n",
              "      <td>Fake</td>\n",
              "    </tr>\n",
              "    <tr>\n",
              "      <th>3</th>\n",
              "      <td>7</td>\n",
              "      <td>WHOA! NEW DISTURBING VIDEO Shows HILLARY'S Cam...</td>\n",
              "      <td>whoa! new disturbing video shows hillary's cam...</td>\n",
              "      <td>9/19/2016</td>\n",
              "      <td>Buzzfeed</td>\n",
              "      <td>4</td>\n",
              "      <td>14</td>\n",
              "      <td>False</td>\n",
              "      <td>Fake</td>\n",
              "    </tr>\n",
              "    <tr>\n",
              "      <th>4</th>\n",
              "      <td>8</td>\n",
              "      <td>Is it the Beginning of the End for Hillary Cli...</td>\n",
              "      <td>beginning end hillary clinton? ‚eagle rising</td>\n",
              "      <td>9/21/2016</td>\n",
              "      <td>Buzzfeed</td>\n",
              "      <td>1</td>\n",
              "      <td>6</td>\n",
              "      <td>False</td>\n",
              "      <td>Fake</td>\n",
              "    </tr>\n",
              "  </tbody>\n",
              "</table>\n",
              "</div>"
            ],
            "text/plain": [
              "   Unnamed: 0                                              title  ...  isCap class\n",
              "0           0  Proof The Mainstream Media Is Manipulating The...  ...   True  Fake\n",
              "1           3  Trump Latest Campaign Promise May Be His Most ...  ...   True  Fake\n",
              "2           5                  Obama Pushes One World Government  ...   True  Fake\n",
              "3           7  WHOA! NEW DISTURBING VIDEO Shows HILLARY'S Cam...  ...  False  Fake\n",
              "4           8  Is it the Beginning of the End for Hillary Cli...  ...  False  Fake\n",
              "\n",
              "[5 rows x 9 columns]"
            ]
          },
          "metadata": {},
          "execution_count": 107
        }
      ]
    },
    {
      "cell_type": "code",
      "metadata": {
        "colab": {
          "base_uri": "https://localhost:8080/",
          "height": 204
        },
        "id": "dO33-KHlDVFU",
        "outputId": "9a74f421-4591-4b14-b62f-0ac521afd509"
      },
      "source": [
        "to_drop= ['Unnamed: 0']\n",
        "df.drop(to_drop, inplace=True, axis=1)\n",
        "df.head()"
      ],
      "execution_count": null,
      "outputs": [
        {
          "output_type": "execute_result",
          "data": {
            "text/html": [
              "<div>\n",
              "<style scoped>\n",
              "    .dataframe tbody tr th:only-of-type {\n",
              "        vertical-align: middle;\n",
              "    }\n",
              "\n",
              "    .dataframe tbody tr th {\n",
              "        vertical-align: top;\n",
              "    }\n",
              "\n",
              "    .dataframe thead th {\n",
              "        text-align: right;\n",
              "    }\n",
              "</style>\n",
              "<table border=\"1\" class=\"dataframe\">\n",
              "  <thead>\n",
              "    <tr style=\"text-align: right;\">\n",
              "      <th></th>\n",
              "      <th>title</th>\n",
              "      <th>without_stopwords</th>\n",
              "      <th>date</th>\n",
              "      <th>source</th>\n",
              "      <th>numPunct</th>\n",
              "      <th>numWords</th>\n",
              "      <th>isCap</th>\n",
              "      <th>class</th>\n",
              "    </tr>\n",
              "  </thead>\n",
              "  <tbody>\n",
              "    <tr>\n",
              "      <th>0</th>\n",
              "      <td>Proof The Mainstream Media Is Manipulating The...</td>\n",
              "      <td>proof mainstream media manipulating election t...</td>\n",
              "      <td>9/19/2016</td>\n",
              "      <td>Buzzfeed</td>\n",
              "      <td>0</td>\n",
              "      <td>9</td>\n",
              "      <td>True</td>\n",
              "      <td>Fake</td>\n",
              "    </tr>\n",
              "    <tr>\n",
              "      <th>1</th>\n",
              "      <td>Trump Latest Campaign Promise May Be His Most ...</td>\n",
              "      <td>trump latest campaign promise may horrible one...</td>\n",
              "      <td>9/19/2016</td>\n",
              "      <td>Buzzfeed</td>\n",
              "      <td>0</td>\n",
              "      <td>8</td>\n",
              "      <td>True</td>\n",
              "      <td>Fake</td>\n",
              "    </tr>\n",
              "    <tr>\n",
              "      <th>2</th>\n",
              "      <td>Obama Pushes One World Government</td>\n",
              "      <td>obama pushes one world government</td>\n",
              "      <td>9/20/2016</td>\n",
              "      <td>Buzzfeed</td>\n",
              "      <td>0</td>\n",
              "      <td>5</td>\n",
              "      <td>True</td>\n",
              "      <td>Fake</td>\n",
              "    </tr>\n",
              "    <tr>\n",
              "      <th>3</th>\n",
              "      <td>WHOA! NEW DISTURBING VIDEO Shows HILLARY'S Cam...</td>\n",
              "      <td>whoa! new disturbing video shows hillary's cam...</td>\n",
              "      <td>9/19/2016</td>\n",
              "      <td>Buzzfeed</td>\n",
              "      <td>4</td>\n",
              "      <td>14</td>\n",
              "      <td>False</td>\n",
              "      <td>Fake</td>\n",
              "    </tr>\n",
              "    <tr>\n",
              "      <th>4</th>\n",
              "      <td>Is it the Beginning of the End for Hillary Cli...</td>\n",
              "      <td>beginning end hillary clinton? ‚eagle rising</td>\n",
              "      <td>9/21/2016</td>\n",
              "      <td>Buzzfeed</td>\n",
              "      <td>1</td>\n",
              "      <td>6</td>\n",
              "      <td>False</td>\n",
              "      <td>Fake</td>\n",
              "    </tr>\n",
              "  </tbody>\n",
              "</table>\n",
              "</div>"
            ],
            "text/plain": [
              "                                               title  ... class\n",
              "0  Proof The Mainstream Media Is Manipulating The...  ...  Fake\n",
              "1  Trump Latest Campaign Promise May Be His Most ...  ...  Fake\n",
              "2                  Obama Pushes One World Government  ...  Fake\n",
              "3  WHOA! NEW DISTURBING VIDEO Shows HILLARY'S Cam...  ...  Fake\n",
              "4  Is it the Beginning of the End for Hillary Cli...  ...  Fake\n",
              "\n",
              "[5 rows x 8 columns]"
            ]
          },
          "metadata": {},
          "execution_count": 109
        }
      ]
    },
    {
      "cell_type": "code",
      "metadata": {
        "colab": {
          "base_uri": "https://localhost:8080/",
          "height": 204
        },
        "id": "q5NYTS7moX-L",
        "outputId": "a8934bcb-76a1-41e3-934b-caf1a93d71b3"
      },
      "source": [
        "df2 = pd.read_csv(fn2, encoding='utf-8')\n",
        "df2.head()"
      ],
      "execution_count": null,
      "outputs": [
        {
          "output_type": "execute_result",
          "data": {
            "text/html": [
              "<div>\n",
              "<style scoped>\n",
              "    .dataframe tbody tr th:only-of-type {\n",
              "        vertical-align: middle;\n",
              "    }\n",
              "\n",
              "    .dataframe tbody tr th {\n",
              "        vertical-align: top;\n",
              "    }\n",
              "\n",
              "    .dataframe thead th {\n",
              "        text-align: right;\n",
              "    }\n",
              "</style>\n",
              "<table border=\"1\" class=\"dataframe\">\n",
              "  <thead>\n",
              "    <tr style=\"text-align: right;\">\n",
              "      <th></th>\n",
              "      <th>Unnamed: 0</th>\n",
              "      <th>title</th>\n",
              "      <th>without_stopwords</th>\n",
              "      <th>date</th>\n",
              "      <th>source</th>\n",
              "      <th>numPunct</th>\n",
              "      <th>numWords</th>\n",
              "      <th>isCap</th>\n",
              "      <th>class</th>\n",
              "    </tr>\n",
              "  </thead>\n",
              "  <tbody>\n",
              "    <tr>\n",
              "      <th>0</th>\n",
              "      <td>0</td>\n",
              "      <td>WHO tells PH to prepare for antiCOVID-19 vaccine</td>\n",
              "      <td>tells ph prepare anticovid-19 vaccine</td>\n",
              "      <td>4/28/2020</td>\n",
              "      <td>Inquirer</td>\n",
              "      <td>1</td>\n",
              "      <td>5</td>\n",
              "      <td>False</td>\n",
              "      <td>Real</td>\n",
              "    </tr>\n",
              "    <tr>\n",
              "      <th>1</th>\n",
              "      <td>1</td>\n",
              "      <td>France says‚unacceptable‚ for Sanofi to give U...</td>\n",
              "      <td>france says‚unacceptable‚ sanofi give us coron...</td>\n",
              "      <td>5/14/2020</td>\n",
              "      <td>Inquirer</td>\n",
              "      <td>0</td>\n",
              "      <td>9</td>\n",
              "      <td>False</td>\n",
              "      <td>Real</td>\n",
              "    </tr>\n",
              "    <tr>\n",
              "      <th>2</th>\n",
              "      <td>2</td>\n",
              "      <td>Gates Foundation gives $3.6m to SK Bioscience‚...</td>\n",
              "      <td>gates foundation gives $3.6m sk bioscience‚s c...</td>\n",
              "      <td>5/19/2020</td>\n",
              "      <td>Inquirer</td>\n",
              "      <td>3</td>\n",
              "      <td>8</td>\n",
              "      <td>False</td>\n",
              "      <td>Real</td>\n",
              "    </tr>\n",
              "    <tr>\n",
              "      <th>3</th>\n",
              "      <td>3</td>\n",
              "      <td>Thai prototype COVID-19 vaccine to be tested o...</td>\n",
              "      <td>thai prototype covid-19 vaccine tested monkeys...</td>\n",
              "      <td>5/20/2020</td>\n",
              "      <td>Inquirer</td>\n",
              "      <td>1</td>\n",
              "      <td>8</td>\n",
              "      <td>False</td>\n",
              "      <td>Real</td>\n",
              "    </tr>\n",
              "    <tr>\n",
              "      <th>4</th>\n",
              "      <td>4</td>\n",
              "      <td>Coronavirus infections top 5 million worldwide</td>\n",
              "      <td>coronavirus infections top 5 million worldwide</td>\n",
              "      <td>5/21/2020</td>\n",
              "      <td>Inquirer</td>\n",
              "      <td>0</td>\n",
              "      <td>6</td>\n",
              "      <td>False</td>\n",
              "      <td>Real</td>\n",
              "    </tr>\n",
              "  </tbody>\n",
              "</table>\n",
              "</div>"
            ],
            "text/plain": [
              "   Unnamed: 0                                              title  ...  isCap class\n",
              "0           0   WHO tells PH to prepare for antiCOVID-19 vaccine  ...  False  Real\n",
              "1           1  France says‚unacceptable‚ for Sanofi to give U...  ...  False  Real\n",
              "2           2  Gates Foundation gives $3.6m to SK Bioscience‚...  ...  False  Real\n",
              "3           3  Thai prototype COVID-19 vaccine to be tested o...  ...  False  Real\n",
              "4           4     Coronavirus infections top 5 million worldwide  ...  False  Real\n",
              "\n",
              "[5 rows x 9 columns]"
            ]
          },
          "metadata": {},
          "execution_count": 117
        }
      ]
    },
    {
      "cell_type": "code",
      "metadata": {
        "id": "rMa5oSz_o1Jb"
      },
      "source": [
        "to_drop= ['Unnamed: 0']\n",
        "new_df.drop(to_drop, inplace=True, axis=1)"
      ],
      "execution_count": null,
      "outputs": []
    },
    {
      "cell_type": "code",
      "metadata": {
        "colab": {
          "base_uri": "https://localhost:8080/",
          "height": 17
        },
        "id": "8QsSNyqnpSd2",
        "outputId": "26db1806-cc37-40b2-ddcc-1f04922beec9"
      },
      "source": [
        "new_df.to_csv('full-dataset.csv', header=True)\n",
        "files.download('full-dataset.csv')"
      ],
      "execution_count": null,
      "outputs": [
        {
          "output_type": "display_data",
          "data": {
            "application/javascript": [
              "\n",
              "    async function download(id, filename, size) {\n",
              "      if (!google.colab.kernel.accessAllowed) {\n",
              "        return;\n",
              "      }\n",
              "      const div = document.createElement('div');\n",
              "      const label = document.createElement('label');\n",
              "      label.textContent = `Downloading \"${filename}\": `;\n",
              "      div.appendChild(label);\n",
              "      const progress = document.createElement('progress');\n",
              "      progress.max = size;\n",
              "      div.appendChild(progress);\n",
              "      document.body.appendChild(div);\n",
              "\n",
              "      const buffers = [];\n",
              "      let downloaded = 0;\n",
              "\n",
              "      const channel = await google.colab.kernel.comms.open(id);\n",
              "      // Send a message to notify the kernel that we're ready.\n",
              "      channel.send({})\n",
              "\n",
              "      for await (const message of channel.messages) {\n",
              "        // Send a message to notify the kernel that we're ready.\n",
              "        channel.send({})\n",
              "        if (message.buffers) {\n",
              "          for (const buffer of message.buffers) {\n",
              "            buffers.push(buffer);\n",
              "            downloaded += buffer.byteLength;\n",
              "            progress.value = downloaded;\n",
              "          }\n",
              "        }\n",
              "      }\n",
              "      const blob = new Blob(buffers, {type: 'application/binary'});\n",
              "      const a = document.createElement('a');\n",
              "      a.href = window.URL.createObjectURL(blob);\n",
              "      a.download = filename;\n",
              "      div.appendChild(a);\n",
              "      a.click();\n",
              "      div.remove();\n",
              "    }\n",
              "  "
            ],
            "text/plain": [
              "<IPython.core.display.Javascript object>"
            ]
          },
          "metadata": {}
        },
        {
          "output_type": "display_data",
          "data": {
            "application/javascript": [
              "download(\"download_dca16f55-084d-439a-b3aa-fb8c43459a1b\", \"full-dataset.csv\", 561313)"
            ],
            "text/plain": [
              "<IPython.core.display.Javascript object>"
            ]
          },
          "metadata": {}
        }
      ]
    },
    {
      "cell_type": "code",
      "metadata": {
        "colab": {
          "base_uri": "https://localhost:8080/",
          "height": 204
        },
        "id": "wIGB4V8Ap0JU",
        "outputId": "442942ff-609a-41b4-bca8-b15b5431509e"
      },
      "source": [
        "df_final = new_df[['title', 'content', 'without_stopwords', 'date', 'source', 'numPunct', 'numWords', 'isCap', 'class']].copy()\n",
        "df_final.head()"
      ],
      "execution_count": null,
      "outputs": [
        {
          "output_type": "execute_result",
          "data": {
            "text/html": [
              "<div>\n",
              "<style scoped>\n",
              "    .dataframe tbody tr th:only-of-type {\n",
              "        vertical-align: middle;\n",
              "    }\n",
              "\n",
              "    .dataframe tbody tr th {\n",
              "        vertical-align: top;\n",
              "    }\n",
              "\n",
              "    .dataframe thead th {\n",
              "        text-align: right;\n",
              "    }\n",
              "</style>\n",
              "<table border=\"1\" class=\"dataframe\">\n",
              "  <thead>\n",
              "    <tr style=\"text-align: right;\">\n",
              "      <th></th>\n",
              "      <th>title</th>\n",
              "      <th>content</th>\n",
              "      <th>without_stopwords</th>\n",
              "      <th>date</th>\n",
              "      <th>source</th>\n",
              "      <th>numPunct</th>\n",
              "      <th>numWords</th>\n",
              "      <th>isCap</th>\n",
              "      <th>class</th>\n",
              "    </tr>\n",
              "  </thead>\n",
              "  <tbody>\n",
              "    <tr>\n",
              "      <th>0</th>\n",
              "      <td>WHO tells PH to prepare for antiCOVID-19 vaccine</td>\n",
              "      <td>MANILA, Philippines — While a vaccine against ...</td>\n",
              "      <td>tells ph prepare anticovid-19 vaccine</td>\n",
              "      <td>4/28/2020</td>\n",
              "      <td>Inquirer</td>\n",
              "      <td>1</td>\n",
              "      <td>5</td>\n",
              "      <td>False</td>\n",
              "      <td>Real</td>\n",
              "    </tr>\n",
              "    <tr>\n",
              "      <th>1</th>\n",
              "      <td>France says‚unacceptable‚ for Sanofi to give U...</td>\n",
              "      <td>(FILES) This file photo taken on November 18, ...</td>\n",
              "      <td>france says‚unacceptable‚ sanofi give us coron...</td>\n",
              "      <td>5/14/2020</td>\n",
              "      <td>Inquirer</td>\n",
              "      <td>0</td>\n",
              "      <td>9</td>\n",
              "      <td>False</td>\n",
              "      <td>Real</td>\n",
              "    </tr>\n",
              "    <tr>\n",
              "      <th>2</th>\n",
              "      <td>Gates Foundation gives $3.6m to SK Bioscience‚...</td>\n",
              "      <td>The Korea Herald/Asia News Network SEOUL â€” B...</td>\n",
              "      <td>gates foundation gives $3.6m sk bioscience‚s c...</td>\n",
              "      <td>5/19/2020</td>\n",
              "      <td>Inquirer</td>\n",
              "      <td>3</td>\n",
              "      <td>8</td>\n",
              "      <td>False</td>\n",
              "      <td>Real</td>\n",
              "    </tr>\n",
              "    <tr>\n",
              "      <th>3</th>\n",
              "      <td>Thai prototype COVID-19 vaccine to be tested o...</td>\n",
              "      <td>BANGKOK â€” Suvit Maesincee, Minister of Highe...</td>\n",
              "      <td>thai prototype covid-19 vaccine tested monkeys...</td>\n",
              "      <td>5/20/2020</td>\n",
              "      <td>Inquirer</td>\n",
              "      <td>1</td>\n",
              "      <td>8</td>\n",
              "      <td>False</td>\n",
              "      <td>Real</td>\n",
              "    </tr>\n",
              "    <tr>\n",
              "      <th>4</th>\n",
              "      <td>Coronavirus infections top 5 million worldwide</td>\n",
              "      <td>A photograph taken on May 21, 2020 shows an el...</td>\n",
              "      <td>coronavirus infections top 5 million worldwide</td>\n",
              "      <td>5/21/2020</td>\n",
              "      <td>Inquirer</td>\n",
              "      <td>0</td>\n",
              "      <td>6</td>\n",
              "      <td>False</td>\n",
              "      <td>Real</td>\n",
              "    </tr>\n",
              "  </tbody>\n",
              "</table>\n",
              "</div>"
            ],
            "text/plain": [
              "                                               title  ... class\n",
              "0   WHO tells PH to prepare for antiCOVID-19 vaccine  ...  Real\n",
              "1  France says‚unacceptable‚ for Sanofi to give U...  ...  Real\n",
              "2  Gates Foundation gives $3.6m to SK Bioscience‚...  ...  Real\n",
              "3  Thai prototype COVID-19 vaccine to be tested o...  ...  Real\n",
              "4     Coronavirus infections top 5 million worldwide  ...  Real\n",
              "\n",
              "[5 rows x 9 columns]"
            ]
          },
          "metadata": {},
          "execution_count": 14
        }
      ]
    },
    {
      "cell_type": "code",
      "metadata": {
        "colab": {
          "base_uri": "https://localhost:8080/",
          "height": 17
        },
        "id": "uLzb7GZNqQhW",
        "outputId": "a41c621d-8342-4638-b166-00d0cd2545b6"
      },
      "source": [
        "df_final.to_csv('test-dataset-withclassandcontent.csv', header=True)\n",
        "files.download('test-dataset-withclassandcontent.csv')"
      ],
      "execution_count": null,
      "outputs": [
        {
          "output_type": "display_data",
          "data": {
            "application/javascript": [
              "\n",
              "    async function download(id, filename, size) {\n",
              "      if (!google.colab.kernel.accessAllowed) {\n",
              "        return;\n",
              "      }\n",
              "      const div = document.createElement('div');\n",
              "      const label = document.createElement('label');\n",
              "      label.textContent = `Downloading \"${filename}\": `;\n",
              "      div.appendChild(label);\n",
              "      const progress = document.createElement('progress');\n",
              "      progress.max = size;\n",
              "      div.appendChild(progress);\n",
              "      document.body.appendChild(div);\n",
              "\n",
              "      const buffers = [];\n",
              "      let downloaded = 0;\n",
              "\n",
              "      const channel = await google.colab.kernel.comms.open(id);\n",
              "      // Send a message to notify the kernel that we're ready.\n",
              "      channel.send({})\n",
              "\n",
              "      for await (const message of channel.messages) {\n",
              "        // Send a message to notify the kernel that we're ready.\n",
              "        channel.send({})\n",
              "        if (message.buffers) {\n",
              "          for (const buffer of message.buffers) {\n",
              "            buffers.push(buffer);\n",
              "            downloaded += buffer.byteLength;\n",
              "            progress.value = downloaded;\n",
              "          }\n",
              "        }\n",
              "      }\n",
              "      const blob = new Blob(buffers, {type: 'application/binary'});\n",
              "      const a = document.createElement('a');\n",
              "      a.href = window.URL.createObjectURL(blob);\n",
              "      a.download = filename;\n",
              "      div.appendChild(a);\n",
              "      a.click();\n",
              "      div.remove();\n",
              "    }\n",
              "  "
            ],
            "text/plain": [
              "<IPython.core.display.Javascript object>"
            ]
          },
          "metadata": {}
        },
        {
          "output_type": "display_data",
          "data": {
            "application/javascript": [
              "download(\"download_51711ce6-5dfc-4861-b4f2-d652b80b8617\", \"test-dataset-withclassandcontent.csv\", 5402464)"
            ],
            "text/plain": [
              "<IPython.core.display.Javascript object>"
            ]
          },
          "metadata": {}
        }
      ]
    },
    {
      "cell_type": "code",
      "metadata": {
        "id": "dsZxeYtyTol0"
      },
      "source": [
        "to_drop= ['Unnamed: 0']\n",
        "df.drop(to_drop, inplace=True, axis=1)"
      ],
      "execution_count": null,
      "outputs": []
    },
    {
      "cell_type": "code",
      "metadata": {
        "colab": {
          "base_uri": "https://localhost:8080/"
        },
        "id": "4B-fJKaNicKT",
        "outputId": "e628f72e-a684-4fa9-dfd5-96f975872282"
      },
      "source": [
        "for col in df.columns:\n",
        "    pct_missing = np.mean(df[col].isnull())\n",
        "    print('{} - {}%'.format(col, round(pct_missing*100)))"
      ],
      "execution_count": null,
      "outputs": [
        {
          "output_type": "stream",
          "name": "stdout",
          "text": [
            "title - 0%\n",
            "source - 0%\n",
            "url - 1%\n",
            "publish_date - 7%\n",
            "class - 0%\n"
          ]
        }
      ]
    },
    {
      "cell_type": "code",
      "metadata": {
        "colab": {
          "base_uri": "https://localhost:8080/",
          "height": 204
        },
        "id": "vGLwpRLCkFjm",
        "outputId": "3b2cbe61-a50a-4588-86da-0030df8a2284"
      },
      "source": [
        "df.drop_duplicates(subset=\"title\", keep= False, inplace=True)\n",
        "df.head()"
      ],
      "execution_count": null,
      "outputs": [
        {
          "output_type": "execute_result",
          "data": {
            "text/html": [
              "<div>\n",
              "<style scoped>\n",
              "    .dataframe tbody tr th:only-of-type {\n",
              "        vertical-align: middle;\n",
              "    }\n",
              "\n",
              "    .dataframe tbody tr th {\n",
              "        vertical-align: top;\n",
              "    }\n",
              "\n",
              "    .dataframe thead th {\n",
              "        text-align: right;\n",
              "    }\n",
              "</style>\n",
              "<table border=\"1\" class=\"dataframe\">\n",
              "  <thead>\n",
              "    <tr style=\"text-align: right;\">\n",
              "      <th></th>\n",
              "      <th>title</th>\n",
              "      <th>source</th>\n",
              "      <th>url</th>\n",
              "      <th>publish_date</th>\n",
              "      <th>class</th>\n",
              "    </tr>\n",
              "  </thead>\n",
              "  <tbody>\n",
              "    <tr>\n",
              "      <th>0</th>\n",
              "      <td>Proof The Mainstream Media Is Manipulating The...</td>\n",
              "      <td>Buzzfeed</td>\n",
              "      <td>http://www.addictinginfo.org</td>\n",
              "      <td>{'$date': 1474243200000}</td>\n",
              "      <td>Fake</td>\n",
              "    </tr>\n",
              "    <tr>\n",
              "      <th>3</th>\n",
              "      <td>Trump Latest Campaign Promise May Be His Most ...</td>\n",
              "      <td>Buzzfeed</td>\n",
              "      <td>http://www.addictinginfo.org</td>\n",
              "      <td>{'$date': 1474243200000}</td>\n",
              "      <td>Fake</td>\n",
              "    </tr>\n",
              "    <tr>\n",
              "      <th>5</th>\n",
              "      <td>Obama Pushes One World Government</td>\n",
              "      <td>Buzzfeed</td>\n",
              "      <td>http://allenwestrepublic.com</td>\n",
              "      <td>{'$date': 1474329600000}</td>\n",
              "      <td>Fake</td>\n",
              "    </tr>\n",
              "    <tr>\n",
              "      <th>7</th>\n",
              "      <td>WHOA! NEW DISTURBING VIDEO Shows HILLARY'S Cam...</td>\n",
              "      <td>Buzzfeed</td>\n",
              "      <td>http://100percentfedup.com</td>\n",
              "      <td>{'$date': 1474328384000}</td>\n",
              "      <td>Fake</td>\n",
              "    </tr>\n",
              "    <tr>\n",
              "      <th>8</th>\n",
              "      <td>Is it the Beginning of the End for Hillary Cli...</td>\n",
              "      <td>Buzzfeed</td>\n",
              "      <td>http://eaglerising.com</td>\n",
              "      <td>{'$date': 1474444240000}</td>\n",
              "      <td>Fake</td>\n",
              "    </tr>\n",
              "  </tbody>\n",
              "</table>\n",
              "</div>"
            ],
            "text/plain": [
              "                                               title  ... class\n",
              "0  Proof The Mainstream Media Is Manipulating The...  ...  Fake\n",
              "3  Trump Latest Campaign Promise May Be His Most ...  ...  Fake\n",
              "5                  Obama Pushes One World Government  ...  Fake\n",
              "7  WHOA! NEW DISTURBING VIDEO Shows HILLARY'S Cam...  ...  Fake\n",
              "8  Is it the Beginning of the End for Hillary Cli...  ...  Fake\n",
              "\n",
              "[5 rows x 5 columns]"
            ]
          },
          "metadata": {},
          "execution_count": 161
        }
      ]
    },
    {
      "cell_type": "code",
      "metadata": {
        "colab": {
          "base_uri": "https://localhost:8080/",
          "height": 204
        },
        "id": "JCBNwyX-tNWr",
        "outputId": "f7ff4b6d-fdd2-462a-9df3-b9edd3eb569a"
      },
      "source": [
        "df['title_lowercase'] = df['title'].str.lower()\n",
        "df.head()"
      ],
      "execution_count": null,
      "outputs": [
        {
          "output_type": "execute_result",
          "data": {
            "text/html": [
              "<div>\n",
              "<style scoped>\n",
              "    .dataframe tbody tr th:only-of-type {\n",
              "        vertical-align: middle;\n",
              "    }\n",
              "\n",
              "    .dataframe tbody tr th {\n",
              "        vertical-align: top;\n",
              "    }\n",
              "\n",
              "    .dataframe thead th {\n",
              "        text-align: right;\n",
              "    }\n",
              "</style>\n",
              "<table border=\"1\" class=\"dataframe\">\n",
              "  <thead>\n",
              "    <tr style=\"text-align: right;\">\n",
              "      <th></th>\n",
              "      <th>title</th>\n",
              "      <th>source</th>\n",
              "      <th>url</th>\n",
              "      <th>publish_date</th>\n",
              "      <th>class</th>\n",
              "      <th>title_lowercase</th>\n",
              "    </tr>\n",
              "  </thead>\n",
              "  <tbody>\n",
              "    <tr>\n",
              "      <th>0</th>\n",
              "      <td>Proof The Mainstream Media Is Manipulating The...</td>\n",
              "      <td>Buzzfeed</td>\n",
              "      <td>http://www.addictinginfo.org</td>\n",
              "      <td>{'$date': 1474243200000}</td>\n",
              "      <td>Fake</td>\n",
              "      <td>proof the mainstream media is manipulating the...</td>\n",
              "    </tr>\n",
              "    <tr>\n",
              "      <th>3</th>\n",
              "      <td>Trump Latest Campaign Promise May Be His Most ...</td>\n",
              "      <td>Buzzfeed</td>\n",
              "      <td>http://www.addictinginfo.org</td>\n",
              "      <td>{'$date': 1474243200000}</td>\n",
              "      <td>Fake</td>\n",
              "      <td>trump latest campaign promise may be his most ...</td>\n",
              "    </tr>\n",
              "    <tr>\n",
              "      <th>5</th>\n",
              "      <td>Obama Pushes One World Government</td>\n",
              "      <td>Buzzfeed</td>\n",
              "      <td>http://allenwestrepublic.com</td>\n",
              "      <td>{'$date': 1474329600000}</td>\n",
              "      <td>Fake</td>\n",
              "      <td>obama pushes one world government</td>\n",
              "    </tr>\n",
              "    <tr>\n",
              "      <th>7</th>\n",
              "      <td>WHOA! NEW DISTURBING VIDEO Shows HILLARY'S Cam...</td>\n",
              "      <td>Buzzfeed</td>\n",
              "      <td>http://100percentfedup.com</td>\n",
              "      <td>{'$date': 1474328384000}</td>\n",
              "      <td>Fake</td>\n",
              "      <td>whoa! new disturbing video shows hillary's cam...</td>\n",
              "    </tr>\n",
              "    <tr>\n",
              "      <th>8</th>\n",
              "      <td>Is it the Beginning of the End for Hillary Cli...</td>\n",
              "      <td>Buzzfeed</td>\n",
              "      <td>http://eaglerising.com</td>\n",
              "      <td>{'$date': 1474444240000}</td>\n",
              "      <td>Fake</td>\n",
              "      <td>is it the beginning of the end for hillary cli...</td>\n",
              "    </tr>\n",
              "  </tbody>\n",
              "</table>\n",
              "</div>"
            ],
            "text/plain": [
              "                                               title  ...                                    title_lowercase\n",
              "0  Proof The Mainstream Media Is Manipulating The...  ...  proof the mainstream media is manipulating the...\n",
              "3  Trump Latest Campaign Promise May Be His Most ...  ...  trump latest campaign promise may be his most ...\n",
              "5                  Obama Pushes One World Government  ...                  obama pushes one world government\n",
              "7  WHOA! NEW DISTURBING VIDEO Shows HILLARY'S Cam...  ...  whoa! new disturbing video shows hillary's cam...\n",
              "8  Is it the Beginning of the End for Hillary Cli...  ...  is it the beginning of the end for hillary cli...\n",
              "\n",
              "[5 rows x 6 columns]"
            ]
          },
          "metadata": {},
          "execution_count": 162
        }
      ]
    },
    {
      "cell_type": "markdown",
      "metadata": {
        "id": "E2BXV6j1PtRn"
      },
      "source": [
        "Remove Stopwords"
      ]
    },
    {
      "cell_type": "code",
      "metadata": {
        "colab": {
          "base_uri": "https://localhost:8080/"
        },
        "id": "HU8_Rl2iwMkZ",
        "outputId": "09678cc1-76fe-48cc-aadc-2b49875062bb"
      },
      "source": [
        "import nltk\n",
        "\n",
        "nltk.download('stopwords')\n",
        "nltk.download('punkt')\n",
        "nltk.download('wordnet')\n",
        "\n",
        "from nltk.corpus import stopwords\n",
        "stop_words = stopwords.words('english')\n",
        "stop_words.extend(['would', 'uhmm'])\n",
        "\n",
        "test1 = pd.DataFrame(df)\n",
        "test1.columns = [\"title\", \"source\", \"url\", \"publish_date\", \"class\", \"title_lowercase\"]\n",
        "test1['without_stopwords'] = test1['title_lowercase'].apply(lambda x: ' '.join([word for word in x.split() if word not in (stop_words)]))\n",
        "\n",
        "print(test1)"
      ],
      "execution_count": null,
      "outputs": [
        {
          "output_type": "stream",
          "name": "stdout",
          "text": [
            "[nltk_data] Downloading package stopwords to /root/nltk_data...\n",
            "[nltk_data]   Package stopwords is already up-to-date!\n",
            "[nltk_data] Downloading package punkt to /root/nltk_data...\n",
            "[nltk_data]   Package punkt is already up-to-date!\n",
            "[nltk_data] Downloading package wordnet to /root/nltk_data...\n",
            "[nltk_data]   Package wordnet is already up-to-date!\n",
            "                                                  title  ...                                  without_stopwords\n",
            "0     Proof The Mainstream Media Is Manipulating The...  ...  proof mainstream media manipulating election t...\n",
            "3     Trump Latest Campaign Promise May Be His Most ...  ...  trump latest campaign promise may horrible one...\n",
            "5                     Obama Pushes One World Government  ...                  obama pushes one world government\n",
            "7     WHOA! NEW DISTURBING VIDEO Shows HILLARY'S Cam...  ...  whoa! new disturbing video shows hillary's cam...\n",
            "8     Is it the Beginning of the End for Hillary Cli...  ...       beginning end hillary clinton? ‚eagle rising\n",
            "...                                                 ...  ...                                                ...\n",
            "1294  Says Kelly Ayotte \"voted again yesterday again...  ...  says kelly ayotte \"voted yesterday proposal ex...\n",
            "1295  \"Swaziland has the highest rate of HIV infecti...  ...      \"swaziland highest rate hiv infection world.\"\n",
            "1296  \"Nine million people have lower-cost HIV/AIDS ...  ...  \"nine million people lower-cost hiv/aids medic...\n",
            "1297  \"Only half of the murders in the city of St. L...  ...     \"only half murders city st. louis get solved.\"\n",
            "1298  Says Donald Trump mocked \"someone with a disab...  ...     says donald trump mocked \"someone disability.\"\n",
            "\n",
            "[1274 rows x 7 columns]\n"
          ]
        }
      ]
    },
    {
      "cell_type": "code",
      "metadata": {
        "id": "LKT6Pwm6xSdx"
      },
      "source": [
        "to_drop= ['title_lowercase']\n",
        "df.drop(to_drop, inplace=True, axis=1)"
      ],
      "execution_count": null,
      "outputs": []
    },
    {
      "cell_type": "code",
      "metadata": {
        "colab": {
          "base_uri": "https://localhost:8080/",
          "height": 204
        },
        "id": "m7pX9CpClp8J",
        "outputId": "19e4919c-361e-402f-da91-e665dff76061"
      },
      "source": [
        "df.head()"
      ],
      "execution_count": null,
      "outputs": [
        {
          "output_type": "execute_result",
          "data": {
            "text/html": [
              "<div>\n",
              "<style scoped>\n",
              "    .dataframe tbody tr th:only-of-type {\n",
              "        vertical-align: middle;\n",
              "    }\n",
              "\n",
              "    .dataframe tbody tr th {\n",
              "        vertical-align: top;\n",
              "    }\n",
              "\n",
              "    .dataframe thead th {\n",
              "        text-align: right;\n",
              "    }\n",
              "</style>\n",
              "<table border=\"1\" class=\"dataframe\">\n",
              "  <thead>\n",
              "    <tr style=\"text-align: right;\">\n",
              "      <th></th>\n",
              "      <th>title</th>\n",
              "      <th>source</th>\n",
              "      <th>url</th>\n",
              "      <th>publish_date</th>\n",
              "      <th>class</th>\n",
              "      <th>without_stopwords</th>\n",
              "    </tr>\n",
              "  </thead>\n",
              "  <tbody>\n",
              "    <tr>\n",
              "      <th>0</th>\n",
              "      <td>Proof The Mainstream Media Is Manipulating The...</td>\n",
              "      <td>Buzzfeed</td>\n",
              "      <td>http://www.addictinginfo.org</td>\n",
              "      <td>{'$date': 1474243200000}</td>\n",
              "      <td>Fake</td>\n",
              "      <td>proof mainstream media manipulating election t...</td>\n",
              "    </tr>\n",
              "    <tr>\n",
              "      <th>3</th>\n",
              "      <td>Trump Latest Campaign Promise May Be His Most ...</td>\n",
              "      <td>Buzzfeed</td>\n",
              "      <td>http://www.addictinginfo.org</td>\n",
              "      <td>{'$date': 1474243200000}</td>\n",
              "      <td>Fake</td>\n",
              "      <td>trump latest campaign promise may horrible one...</td>\n",
              "    </tr>\n",
              "    <tr>\n",
              "      <th>5</th>\n",
              "      <td>Obama Pushes One World Government</td>\n",
              "      <td>Buzzfeed</td>\n",
              "      <td>http://allenwestrepublic.com</td>\n",
              "      <td>{'$date': 1474329600000}</td>\n",
              "      <td>Fake</td>\n",
              "      <td>obama pushes one world government</td>\n",
              "    </tr>\n",
              "    <tr>\n",
              "      <th>7</th>\n",
              "      <td>WHOA! NEW DISTURBING VIDEO Shows HILLARY'S Cam...</td>\n",
              "      <td>Buzzfeed</td>\n",
              "      <td>http://100percentfedup.com</td>\n",
              "      <td>{'$date': 1474328384000}</td>\n",
              "      <td>Fake</td>\n",
              "      <td>whoa! new disturbing video shows hillary's cam...</td>\n",
              "    </tr>\n",
              "    <tr>\n",
              "      <th>8</th>\n",
              "      <td>Is it the Beginning of the End for Hillary Cli...</td>\n",
              "      <td>Buzzfeed</td>\n",
              "      <td>http://eaglerising.com</td>\n",
              "      <td>{'$date': 1474444240000}</td>\n",
              "      <td>Fake</td>\n",
              "      <td>beginning end hillary clinton? ‚eagle rising</td>\n",
              "    </tr>\n",
              "  </tbody>\n",
              "</table>\n",
              "</div>"
            ],
            "text/plain": [
              "                                               title  ...                                  without_stopwords\n",
              "0  Proof The Mainstream Media Is Manipulating The...  ...  proof mainstream media manipulating election t...\n",
              "3  Trump Latest Campaign Promise May Be His Most ...  ...  trump latest campaign promise may horrible one...\n",
              "5                  Obama Pushes One World Government  ...                  obama pushes one world government\n",
              "7  WHOA! NEW DISTURBING VIDEO Shows HILLARY'S Cam...  ...  whoa! new disturbing video shows hillary's cam...\n",
              "8  Is it the Beginning of the End for Hillary Cli...  ...       beginning end hillary clinton? ‚eagle rising\n",
              "\n",
              "[5 rows x 6 columns]"
            ]
          },
          "metadata": {},
          "execution_count": 166
        }
      ]
    },
    {
      "cell_type": "markdown",
      "metadata": {
        "id": "4gH6PoHzcvOA"
      },
      "source": [
        "Get number of words in headline and extract into a CSV file."
      ]
    },
    {
      "cell_type": "code",
      "metadata": {
        "colab": {
          "base_uri": "https://localhost:8080/"
        },
        "id": "uyV_jQ-zRWCo",
        "outputId": "851e2065-418d-4ecf-98c8-49e5c4b4cf68"
      },
      "source": [
        "df['numWords'] = df['without_stopwords'].str.split().str.len()\n",
        "df['numWords'].index = df['numWords'].index.astype(str)\n",
        "count = df['numWords']\n",
        "df['numWords']"
      ],
      "execution_count": null,
      "outputs": [
        {
          "output_type": "execute_result",
          "data": {
            "text/plain": [
              "0        9\n",
              "3        8\n",
              "5        5\n",
              "7       14\n",
              "8        6\n",
              "        ..\n",
              "1294    22\n",
              "1295     6\n",
              "1296    10\n",
              "1297     8\n",
              "1298     6\n",
              "Name: numWords, Length: 1274, dtype: int64"
            ]
          },
          "metadata": {},
          "execution_count": 167
        }
      ]
    },
    {
      "cell_type": "markdown",
      "metadata": {
        "id": "tW_zsMi9c8jw"
      },
      "source": [
        "Get number of punctuations in headline and extract into a CSV file."
      ]
    },
    {
      "cell_type": "code",
      "metadata": {
        "colab": {
          "base_uri": "https://localhost:8080/"
        },
        "id": "maBJBl1faUq6",
        "outputId": "44d2b88b-f2c1-4041-82e7-8a92fd9ed709"
      },
      "source": [
        "punct = lambda l1,l2: sum([1 for x in l1 if x in l2])\n",
        "df['numPunct'] = df.title.apply(lambda s: punct(s, string.punctuation))\n",
        "num_punctuations = df['numPunct']\n",
        "num_punctuations"
      ],
      "execution_count": null,
      "outputs": [
        {
          "output_type": "execute_result",
          "data": {
            "text/plain": [
              "0       0\n",
              "3       0\n",
              "5       0\n",
              "7       4\n",
              "8       1\n",
              "       ..\n",
              "1294    7\n",
              "1295    3\n",
              "1296    5\n",
              "1297    4\n",
              "1298    3\n",
              "Name: numPunct, Length: 1274, dtype: int64"
            ]
          },
          "metadata": {},
          "execution_count": 168
        }
      ]
    },
    {
      "cell_type": "markdown",
      "metadata": {
        "id": "4ExzPzvaiEqC"
      },
      "source": [
        "Check if all words in header are in title case."
      ]
    },
    {
      "cell_type": "code",
      "metadata": {
        "id": "TBcuvZu6q7IR"
      },
      "source": [
        "df['isCap'] = list(map(lambda x: str(x).istitle(), df['title']))\n",
        "isCap = df['isCap']\n",
        "isCap.to_csv('isCap.csv', header=True)"
      ],
      "execution_count": null,
      "outputs": []
    },
    {
      "cell_type": "code",
      "metadata": {
        "colab": {
          "base_uri": "https://localhost:8080/"
        },
        "id": "rysgSFMaNjcB",
        "outputId": "e51ce5b6-9879-4650-c040-7fc64a2711a7"
      },
      "source": [
        "new_df = df[['title', 'without_stopwords', 'publish_date', 'source', 'numPunct', 'numWords', 'isCap', 'class']].copy()\n",
        "new_df.head\n",
        "new_df.columns"
      ],
      "execution_count": null,
      "outputs": [
        {
          "output_type": "execute_result",
          "data": {
            "text/plain": [
              "Index(['title', 'without_stopwords', 'publish_date', 'source', 'numPunct',\n",
              "       'numWords', 'isCap', 'class'],\n",
              "      dtype='object')"
            ]
          },
          "metadata": {},
          "execution_count": 170
        }
      ]
    },
    {
      "cell_type": "code",
      "metadata": {
        "colab": {
          "base_uri": "https://localhost:8080/"
        },
        "id": "yI_3xcCkSV7o",
        "outputId": "4cf95e71-0f0f-4ca5-da87-1835c105f8f4"
      },
      "source": [
        "print(new_df.head())\n",
        "print (new_df.columns)"
      ],
      "execution_count": null,
      "outputs": [
        {
          "output_type": "stream",
          "name": "stdout",
          "text": [
            "                                               title  ... class\n",
            "0  Proof The Mainstream Media Is Manipulating The...  ...  Fake\n",
            "3  Trump Latest Campaign Promise May Be His Most ...  ...  Fake\n",
            "5                  Obama Pushes One World Government  ...  Fake\n",
            "7  WHOA! NEW DISTURBING VIDEO Shows HILLARY'S Cam...  ...  Fake\n",
            "8  Is it the Beginning of the End for Hillary Cli...  ...  Fake\n",
            "\n",
            "[5 rows x 8 columns]\n",
            "Index(['title', 'without_stopwords', 'publish_date', 'source', 'numPunct',\n",
            "       'numWords', 'isCap', 'class'],\n",
            "      dtype='object')\n"
          ]
        }
      ]
    },
    {
      "cell_type": "code",
      "metadata": {
        "colab": {
          "base_uri": "https://localhost:8080/",
          "height": 17
        },
        "id": "aTtJqQ6NSEIm",
        "outputId": "95e88259-c744-4c8f-ae37-75db3ad9eb09"
      },
      "source": [
        "new_df.to_csv('new-dataset.csv', header=True)\n",
        "files.download('new-dataset.csv')"
      ],
      "execution_count": null,
      "outputs": [
        {
          "output_type": "display_data",
          "data": {
            "application/javascript": [
              "\n",
              "    async function download(id, filename, size) {\n",
              "      if (!google.colab.kernel.accessAllowed) {\n",
              "        return;\n",
              "      }\n",
              "      const div = document.createElement('div');\n",
              "      const label = document.createElement('label');\n",
              "      label.textContent = `Downloading \"${filename}\": `;\n",
              "      div.appendChild(label);\n",
              "      const progress = document.createElement('progress');\n",
              "      progress.max = size;\n",
              "      div.appendChild(progress);\n",
              "      document.body.appendChild(div);\n",
              "\n",
              "      const buffers = [];\n",
              "      let downloaded = 0;\n",
              "\n",
              "      const channel = await google.colab.kernel.comms.open(id);\n",
              "      // Send a message to notify the kernel that we're ready.\n",
              "      channel.send({})\n",
              "\n",
              "      for await (const message of channel.messages) {\n",
              "        // Send a message to notify the kernel that we're ready.\n",
              "        channel.send({})\n",
              "        if (message.buffers) {\n",
              "          for (const buffer of message.buffers) {\n",
              "            buffers.push(buffer);\n",
              "            downloaded += buffer.byteLength;\n",
              "            progress.value = downloaded;\n",
              "          }\n",
              "        }\n",
              "      }\n",
              "      const blob = new Blob(buffers, {type: 'application/binary'});\n",
              "      const a = document.createElement('a');\n",
              "      a.href = window.URL.createObjectURL(blob);\n",
              "      a.download = filename;\n",
              "      div.appendChild(a);\n",
              "      a.click();\n",
              "      div.remove();\n",
              "    }\n",
              "  "
            ],
            "text/plain": [
              "<IPython.core.display.Javascript object>"
            ]
          },
          "metadata": {}
        },
        {
          "output_type": "display_data",
          "data": {
            "application/javascript": [
              "download(\"download_e0c50b5b-e205-430c-8919-d05666097911\", \"new-dataset.csv\", 303308)"
            ],
            "text/plain": [
              "<IPython.core.display.Javascript object>"
            ]
          },
          "metadata": {}
        }
      ]
    }
  ]
}